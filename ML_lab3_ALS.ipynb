{
 "cells": [
  {
   "cell_type": "code",
   "execution_count": 1,
   "metadata": {},
   "outputs": [],
   "source": [
    "import numpy as np\n",
    "import matplotlib.pyplot as plt\n",
    "import pandas as pd"
   ]
  },
  {
   "cell_type": "code",
   "execution_count": 2,
   "metadata": {},
   "outputs": [],
   "source": [
    "def open_csv(filename):\n",
    "    df = pd.read_csv(filename, header=None, sep='\\t')\n",
    "    cols = [(line[0], line[1], line[2]) for _, line in df.iterrows()]\n",
    "    return [c[0] for c in cols], [c[1] for c in cols], [c[2] for c in cols]\n",
    "    \n",
    "train_user_ids, train_movie_ids, train_scores = open_csv('./u1.base')\n",
    "test_user_ids, test_movie_ids, test_scores = open_csv('./u1.test')\n",
    "\n",
    "train_user_ids = np.array(train_user_ids) - 1 # id1 -> id0\n",
    "train_movie_ids = np.array(train_movie_ids) - 1\n",
    "test_user_ids = np.array(test_user_ids) - 1\n",
    "test_movie_ids = np.array(test_movie_ids) - 1"
   ]
  },
  {
   "cell_type": "code",
   "execution_count": 24,
   "metadata": {},
   "outputs": [],
   "source": [
    "# 数据处理\n",
    "u_len = max(np.max(train_user_ids), np.max(test_user_ids)) + 1\n",
    "i_len = max(np.max(train_movie_ids), np.max(test_movie_ids)) + 1\n",
    "\n",
    "train_mtx = np.zeros((u_len, i_len), dtype=np.int)\n",
    "for u, i, c in zip(train_user_ids, train_movie_ids, train_scores):\n",
    "    train_mtx[u][i] = c\n",
    "    \n",
    "test_mtx = np.array(train_mtx, dtype=np.int)\n",
    "for u, i, c in zip(test_user_ids, test_movie_ids, test_scores):\n",
    "    test_mtx[u][i] = c\n",
    "\n",
    "k = 200\n",
    "P = np.random.random((k, u_len))\n",
    "Q = np.random.random((k, i_len))"
   ]
  },
  {
   "cell_type": "code",
   "execution_count": 25,
   "metadata": {},
   "outputs": [],
   "source": [
    "gamma = 0.4\n",
    "epoches = 200\n",
    "show_epoch = 1"
   ]
  },
  {
   "cell_type": "markdown",
   "metadata": {},
   "source": [
    "$$\n",
    "P = (QQ^T + \\gamma E_k)^{-1}QR^T \\\\\n",
    "Q = (PP^T + \\gamma E_k)^{-1}PR\n",
    "$$"
   ]
  },
  {
   "cell_type": "code",
   "execution_count": 26,
   "metadata": {},
   "outputs": [
    {
     "data": {
      "text/plain": [
       "(56.84126019967723, 0.21201)"
      ]
     },
     "execution_count": 26,
     "metadata": {},
     "output_type": "execute_result"
    }
   ],
   "source": [
    "def calc_loss_acc(P, Q, mtx):\n",
    "    pred = np.clip(np.round(P.T.dot(Q)).astype(np.int), 1, 5)\n",
    "    num, loss, acc = 0, 0, 0\n",
    "    for u in range(mtx.shape[0]):\n",
    "        for i in range(mtx.shape[1]):\n",
    "            if mtx[u][i] != 0:\n",
    "                num += 1\n",
    "                loss += (pred[u, i] - mtx[u, i]) ** 2 + gamma * ((np.linalg.norm(P[:, u]) ** 2 + np.linalg.norm(Q[:, i]) ** 2))\n",
    "                acc += 1 if mtx[u][i] == pred[u][i] else 0\n",
    "\n",
    "    return loss / num, acc / num\n",
    "\n",
    "calc_loss_acc(P, Q, test_mtx)"
   ]
  },
  {
   "cell_type": "code",
   "execution_count": 27,
   "metadata": {},
   "outputs": [
    {
     "name": "stdout",
     "output_type": "stream",
     "text": [
      "Epoch: 0, train_loss: 73.6648, test_loss: 74.2927, train_acc: 0.2084, test_acc: 0.1812\n",
      "Epoch: 1, train_loss: 66.9496, test_loss: 67.8468, train_acc: 0.3547, test_acc: 0.2977\n",
      "Epoch: 2, train_loss: 59.5415, test_loss: 60.5056, train_acc: 0.4063, test_acc: 0.3390\n",
      "Epoch: 3, train_loss: 53.6472, test_loss: 54.6516, train_acc: 0.4293, test_acc: 0.3574\n",
      "Epoch: 4, train_loss: 49.0045, test_loss: 50.0362, train_acc: 0.4413, test_acc: 0.3670\n",
      "Epoch: 5, train_loss: 45.2737, test_loss: 46.3253, train_acc: 0.4485, test_acc: 0.3728\n",
      "Epoch: 6, train_loss: 42.2128, test_loss: 43.2808, train_acc: 0.4530, test_acc: 0.3763\n",
      "Epoch: 7, train_loss: 39.6560, test_loss: 40.7372, train_acc: 0.4563, test_acc: 0.3790\n",
      "Epoch: 8, train_loss: 37.4916, test_loss: 38.5835, train_acc: 0.4592, test_acc: 0.3813\n",
      "Epoch: 9, train_loss: 35.6349, test_loss: 36.7363, train_acc: 0.4619, test_acc: 0.3835\n",
      "Epoch: 10, train_loss: 34.0257, test_loss: 35.1350, train_acc: 0.4631, test_acc: 0.3844\n",
      "Epoch: 11, train_loss: 32.6197, test_loss: 33.7356, train_acc: 0.4649, test_acc: 0.3859\n",
      "Epoch: 12, train_loss: 31.3817, test_loss: 32.5029, train_acc: 0.4659, test_acc: 0.3867\n",
      "Epoch: 13, train_loss: 30.2829, test_loss: 31.4098, train_acc: 0.4674, test_acc: 0.3879\n",
      "Epoch: 14, train_loss: 29.3051, test_loss: 30.4363, train_acc: 0.4685, test_acc: 0.3888\n",
      "Epoch: 15, train_loss: 28.4293, test_loss: 29.5644, train_acc: 0.4693, test_acc: 0.3894\n",
      "Epoch: 16, train_loss: 27.6407, test_loss: 28.7792, train_acc: 0.4706, test_acc: 0.3904\n",
      "Epoch: 17, train_loss: 26.9288, test_loss: 28.0704, train_acc: 0.4714, test_acc: 0.3911\n",
      "Epoch: 18, train_loss: 26.2831, test_loss: 27.4273, train_acc: 0.4725, test_acc: 0.3920\n",
      "Epoch: 19, train_loss: 25.6950, test_loss: 26.8416, train_acc: 0.4730, test_acc: 0.3923\n",
      "Epoch: 20, train_loss: 25.1585, test_loss: 26.3073, train_acc: 0.4734, test_acc: 0.3927\n",
      "Epoch: 21, train_loss: 24.6676, test_loss: 25.8184, train_acc: 0.4739, test_acc: 0.3931\n",
      "Epoch: 22, train_loss: 24.2175, test_loss: 25.3700, train_acc: 0.4745, test_acc: 0.3936\n",
      "Epoch: 23, train_loss: 23.8038, test_loss: 24.9577, train_acc: 0.4750, test_acc: 0.3940\n",
      "Epoch: 24, train_loss: 23.4232, test_loss: 24.5783, train_acc: 0.4755, test_acc: 0.3944\n",
      "Epoch: 25, train_loss: 23.0717, test_loss: 24.2281, train_acc: 0.4757, test_acc: 0.3946\n",
      "Epoch: 26, train_loss: 22.7473, test_loss: 23.9047, train_acc: 0.4757, test_acc: 0.3946\n",
      "Epoch: 27, train_loss: 22.4469, test_loss: 23.6052, train_acc: 0.4757, test_acc: 0.3945\n",
      "Epoch: 28, train_loss: 22.1680, test_loss: 23.3272, train_acc: 0.4757, test_acc: 0.3945\n",
      "Epoch: 29, train_loss: 21.9084, test_loss: 23.0686, train_acc: 0.4760, test_acc: 0.3948\n",
      "Epoch: 30, train_loss: 21.6672, test_loss: 22.8280, train_acc: 0.4762, test_acc: 0.3949\n",
      "Epoch: 31, train_loss: 21.4428, test_loss: 22.6042, train_acc: 0.4764, test_acc: 0.3951\n",
      "Epoch: 32, train_loss: 21.2339, test_loss: 22.3957, train_acc: 0.4766, test_acc: 0.3952\n",
      "Epoch: 33, train_loss: 21.0390, test_loss: 22.2011, train_acc: 0.4766, test_acc: 0.3952\n",
      "Epoch: 34, train_loss: 20.8569, test_loss: 22.0193, train_acc: 0.4768, test_acc: 0.3954\n",
      "Epoch: 35, train_loss: 20.6863, test_loss: 21.8491, train_acc: 0.4769, test_acc: 0.3955\n",
      "Epoch: 36, train_loss: 20.5267, test_loss: 21.6899, train_acc: 0.4771, test_acc: 0.3957\n",
      "Epoch: 37, train_loss: 20.3771, test_loss: 21.5404, train_acc: 0.4775, test_acc: 0.3959\n",
      "Epoch: 38, train_loss: 20.2372, test_loss: 21.4006, train_acc: 0.4775, test_acc: 0.3960\n",
      "Epoch: 39, train_loss: 20.1050, test_loss: 21.2685, train_acc: 0.4777, test_acc: 0.3961\n",
      "Epoch: 40, train_loss: 19.9813, test_loss: 21.1448, train_acc: 0.4777, test_acc: 0.3961\n",
      "Epoch: 41, train_loss: 19.8648, test_loss: 21.0284, train_acc: 0.4776, test_acc: 0.3960\n",
      "Epoch: 42, train_loss: 19.7549, test_loss: 20.9185, train_acc: 0.4776, test_acc: 0.3960\n",
      "Epoch: 43, train_loss: 19.6516, test_loss: 20.8153, train_acc: 0.4776, test_acc: 0.3960\n",
      "Epoch: 44, train_loss: 19.5542, test_loss: 20.7179, train_acc: 0.4779, test_acc: 0.3962\n",
      "Epoch: 45, train_loss: 19.4625, test_loss: 20.6262, train_acc: 0.4779, test_acc: 0.3963\n",
      "Epoch: 46, train_loss: 19.3759, test_loss: 20.5395, train_acc: 0.4778, test_acc: 0.3962\n",
      "Epoch: 47, train_loss: 19.2940, test_loss: 20.4577, train_acc: 0.4779, test_acc: 0.3963\n",
      "Epoch: 48, train_loss: 19.2168, test_loss: 20.3804, train_acc: 0.4780, test_acc: 0.3964\n",
      "Epoch: 49, train_loss: 19.1439, test_loss: 20.3073, train_acc: 0.4780, test_acc: 0.3963\n",
      "Epoch: 50, train_loss: 19.0747, test_loss: 20.2380, train_acc: 0.4781, test_acc: 0.3964\n",
      "Epoch: 51, train_loss: 19.0097, test_loss: 20.1728, train_acc: 0.4779, test_acc: 0.3963\n",
      "Epoch: 52, train_loss: 18.9475, test_loss: 20.1105, train_acc: 0.4779, test_acc: 0.3963\n",
      "Epoch: 53, train_loss: 18.8890, test_loss: 20.0517, train_acc: 0.4781, test_acc: 0.3964\n",
      "Epoch: 54, train_loss: 18.8334, test_loss: 19.9957, train_acc: 0.4782, test_acc: 0.3965\n",
      "Epoch: 55, train_loss: 18.7805, test_loss: 19.9425, train_acc: 0.4782, test_acc: 0.3965\n",
      "Epoch: 56, train_loss: 18.7302, test_loss: 19.8920, train_acc: 0.4782, test_acc: 0.3965\n",
      "Epoch: 57, train_loss: 18.6828, test_loss: 19.8442, train_acc: 0.4782, test_acc: 0.3965\n",
      "Epoch: 58, train_loss: 18.6378, test_loss: 19.7989, train_acc: 0.4781, test_acc: 0.3965\n",
      "Epoch: 59, train_loss: 18.5946, test_loss: 19.7555, train_acc: 0.4783, test_acc: 0.3966\n",
      "Epoch: 60, train_loss: 18.5536, test_loss: 19.7142, train_acc: 0.4783, test_acc: 0.3966\n",
      "Epoch: 61, train_loss: 18.5143, test_loss: 19.6746, train_acc: 0.4784, test_acc: 0.3967\n",
      "Epoch: 62, train_loss: 18.4772, test_loss: 19.6371, train_acc: 0.4785, test_acc: 0.3968\n",
      "Epoch: 63, train_loss: 18.4415, test_loss: 19.6012, train_acc: 0.4786, test_acc: 0.3968\n",
      "Epoch: 64, train_loss: 18.4075, test_loss: 19.5670, train_acc: 0.4785, test_acc: 0.3968\n",
      "Epoch: 65, train_loss: 18.3752, test_loss: 19.5343, train_acc: 0.4785, test_acc: 0.3967\n",
      "Epoch: 66, train_loss: 18.3440, test_loss: 19.5028, train_acc: 0.4786, test_acc: 0.3968\n",
      "Epoch: 67, train_loss: 18.3144, test_loss: 19.4729, train_acc: 0.4788, test_acc: 0.3970\n",
      "Epoch: 68, train_loss: 18.2862, test_loss: 19.4444, train_acc: 0.4788, test_acc: 0.3970\n",
      "Epoch: 69, train_loss: 18.2591, test_loss: 19.4171, train_acc: 0.4788, test_acc: 0.3970\n",
      "Epoch: 70, train_loss: 18.2332, test_loss: 19.3909, train_acc: 0.4789, test_acc: 0.3971\n",
      "Epoch: 71, train_loss: 18.2084, test_loss: 19.3658, train_acc: 0.4789, test_acc: 0.3971\n",
      "Epoch: 72, train_loss: 18.1845, test_loss: 19.3415, train_acc: 0.4791, test_acc: 0.3972\n",
      "Epoch: 73, train_loss: 18.1620, test_loss: 19.3187, train_acc: 0.4790, test_acc: 0.3972\n",
      "Epoch: 74, train_loss: 18.1403, test_loss: 19.2966, train_acc: 0.4790, test_acc: 0.3972\n",
      "Epoch: 75, train_loss: 18.1192, test_loss: 19.2753, train_acc: 0.4790, test_acc: 0.3972\n",
      "Epoch: 76, train_loss: 18.0993, test_loss: 19.2550, train_acc: 0.4791, test_acc: 0.3972\n",
      "Epoch: 77, train_loss: 18.0800, test_loss: 19.2354, train_acc: 0.4790, test_acc: 0.3972\n",
      "Epoch: 78, train_loss: 18.0617, test_loss: 19.2167, train_acc: 0.4792, test_acc: 0.3973\n",
      "Epoch: 79, train_loss: 18.0440, test_loss: 19.1986, train_acc: 0.4790, test_acc: 0.3972\n",
      "Epoch: 80, train_loss: 18.0271, test_loss: 19.1813, train_acc: 0.4790, test_acc: 0.3971\n",
      "Epoch: 81, train_loss: 18.0106, test_loss: 19.1644, train_acc: 0.4790, test_acc: 0.3972\n",
      "Epoch: 82, train_loss: 17.9951, test_loss: 19.1485, train_acc: 0.4790, test_acc: 0.3971\n",
      "Epoch: 83, train_loss: 17.9798, test_loss: 19.1329, train_acc: 0.4789, test_acc: 0.3971\n",
      "Epoch: 84, train_loss: 17.9651, test_loss: 19.1177, train_acc: 0.4790, test_acc: 0.3972\n",
      "Epoch: 85, train_loss: 17.9509, test_loss: 19.1032, train_acc: 0.4790, test_acc: 0.3972\n",
      "Epoch: 86, train_loss: 17.9372, test_loss: 19.0892, train_acc: 0.4789, test_acc: 0.3971\n",
      "Epoch: 87, train_loss: 17.9240, test_loss: 19.0757, train_acc: 0.4789, test_acc: 0.3971\n",
      "Epoch: 88, train_loss: 17.9108, test_loss: 19.0622, train_acc: 0.4791, test_acc: 0.3972\n",
      "Epoch: 89, train_loss: 17.8986, test_loss: 19.0496, train_acc: 0.4790, test_acc: 0.3972\n",
      "Epoch: 90, train_loss: 17.8864, test_loss: 19.0371, train_acc: 0.4790, test_acc: 0.3971\n",
      "Epoch: 91, train_loss: 17.8748, test_loss: 19.0251, train_acc: 0.4790, test_acc: 0.3971\n",
      "Epoch: 92, train_loss: 17.8634, test_loss: 19.0134, train_acc: 0.4791, test_acc: 0.3972\n",
      "Epoch: 93, train_loss: 17.8525, test_loss: 19.0022, train_acc: 0.4792, test_acc: 0.3973\n"
     ]
    },
    {
     "name": "stdout",
     "output_type": "stream",
     "text": [
      "Epoch: 94, train_loss: 17.8416, test_loss: 18.9910, train_acc: 0.4793, test_acc: 0.3974\n",
      "Epoch: 95, train_loss: 17.8316, test_loss: 18.9806, train_acc: 0.4794, test_acc: 0.3974\n",
      "Epoch: 96, train_loss: 17.8215, test_loss: 18.9704, train_acc: 0.4794, test_acc: 0.3975\n",
      "Epoch: 97, train_loss: 17.8121, test_loss: 18.9606, train_acc: 0.4794, test_acc: 0.3975\n",
      "Epoch: 98, train_loss: 17.8027, test_loss: 18.9509, train_acc: 0.4794, test_acc: 0.3975\n",
      "Epoch: 99, train_loss: 17.7938, test_loss: 18.9416, train_acc: 0.4793, test_acc: 0.3974\n",
      "Epoch: 100, train_loss: 17.7852, test_loss: 18.9327, train_acc: 0.4793, test_acc: 0.3974\n",
      "Epoch: 101, train_loss: 17.7767, test_loss: 18.9239, train_acc: 0.4792, test_acc: 0.3973\n",
      "Epoch: 102, train_loss: 17.7684, test_loss: 18.9152, train_acc: 0.4792, test_acc: 0.3973\n",
      "Epoch: 103, train_loss: 17.7603, test_loss: 18.9068, train_acc: 0.4793, test_acc: 0.3973\n",
      "Epoch: 104, train_loss: 17.7525, test_loss: 18.8987, train_acc: 0.4793, test_acc: 0.3974\n",
      "Epoch: 105, train_loss: 17.7447, test_loss: 18.8906, train_acc: 0.4792, test_acc: 0.3973\n",
      "Epoch: 106, train_loss: 17.7374, test_loss: 18.8830, train_acc: 0.4793, test_acc: 0.3974\n",
      "Epoch: 107, train_loss: 17.7302, test_loss: 18.8755, train_acc: 0.4793, test_acc: 0.3974\n",
      "Epoch: 108, train_loss: 17.7232, test_loss: 18.8682, train_acc: 0.4793, test_acc: 0.3974\n",
      "Epoch: 109, train_loss: 17.7163, test_loss: 18.8610, train_acc: 0.4794, test_acc: 0.3974\n",
      "Epoch: 110, train_loss: 17.7097, test_loss: 18.8540, train_acc: 0.4794, test_acc: 0.3974\n",
      "Epoch: 111, train_loss: 17.7031, test_loss: 18.8472, train_acc: 0.4793, test_acc: 0.3974\n",
      "Epoch: 112, train_loss: 17.6968, test_loss: 18.8405, train_acc: 0.4793, test_acc: 0.3974\n",
      "Epoch: 113, train_loss: 17.6904, test_loss: 18.8339, train_acc: 0.4793, test_acc: 0.3974\n",
      "Epoch: 114, train_loss: 17.6846, test_loss: 18.8277, train_acc: 0.4793, test_acc: 0.3974\n",
      "Epoch: 115, train_loss: 17.6786, test_loss: 18.8214, train_acc: 0.4794, test_acc: 0.3975\n",
      "Epoch: 116, train_loss: 17.6726, test_loss: 18.8152, train_acc: 0.4794, test_acc: 0.3975\n",
      "Epoch: 117, train_loss: 17.6671, test_loss: 18.8093, train_acc: 0.4795, test_acc: 0.3975\n",
      "Epoch: 118, train_loss: 17.6617, test_loss: 18.8036, train_acc: 0.4795, test_acc: 0.3976\n",
      "Epoch: 119, train_loss: 17.6564, test_loss: 18.7979, train_acc: 0.4797, test_acc: 0.3977\n",
      "Epoch: 120, train_loss: 17.6509, test_loss: 18.7922, train_acc: 0.4798, test_acc: 0.3978\n",
      "Epoch: 121, train_loss: 17.6457, test_loss: 18.7867, train_acc: 0.4798, test_acc: 0.3978\n",
      "Epoch: 122, train_loss: 17.6405, test_loss: 18.7812, train_acc: 0.4799, test_acc: 0.3979\n",
      "Epoch: 123, train_loss: 17.6353, test_loss: 18.7758, train_acc: 0.4799, test_acc: 0.3979\n",
      "Epoch: 124, train_loss: 17.6304, test_loss: 18.7706, train_acc: 0.4799, test_acc: 0.3979\n",
      "Epoch: 125, train_loss: 17.6257, test_loss: 18.7657, train_acc: 0.4801, test_acc: 0.3980\n",
      "Epoch: 126, train_loss: 17.6211, test_loss: 18.7608, train_acc: 0.4799, test_acc: 0.3979\n",
      "Epoch: 127, train_loss: 17.6166, test_loss: 18.7560, train_acc: 0.4799, test_acc: 0.3979\n",
      "Epoch: 128, train_loss: 17.6120, test_loss: 18.7511, train_acc: 0.4800, test_acc: 0.3980\n",
      "Epoch: 129, train_loss: 17.6076, test_loss: 18.7465, train_acc: 0.4800, test_acc: 0.3980\n",
      "Epoch: 130, train_loss: 17.6032, test_loss: 18.7418, train_acc: 0.4802, test_acc: 0.3981\n",
      "Epoch: 131, train_loss: 17.5989, test_loss: 18.7372, train_acc: 0.4802, test_acc: 0.3981\n",
      "Epoch: 132, train_loss: 17.5947, test_loss: 18.7328, train_acc: 0.4803, test_acc: 0.3982\n",
      "Epoch: 133, train_loss: 17.5908, test_loss: 18.7286, train_acc: 0.4803, test_acc: 0.3982\n",
      "Epoch: 134, train_loss: 17.5868, test_loss: 18.7243, train_acc: 0.4803, test_acc: 0.3982\n",
      "Epoch: 135, train_loss: 17.5830, test_loss: 18.7202, train_acc: 0.4804, test_acc: 0.3983\n",
      "Epoch: 136, train_loss: 17.5790, test_loss: 18.7161, train_acc: 0.4803, test_acc: 0.3982\n",
      "Epoch: 137, train_loss: 17.5751, test_loss: 18.7119, train_acc: 0.4805, test_acc: 0.3983\n",
      "Epoch: 138, train_loss: 17.5716, test_loss: 18.7081, train_acc: 0.4805, test_acc: 0.3983\n",
      "Epoch: 139, train_loss: 17.5681, test_loss: 18.7043, train_acc: 0.4803, test_acc: 0.3982\n",
      "Epoch: 140, train_loss: 17.5649, test_loss: 18.7007, train_acc: 0.4803, test_acc: 0.3982\n",
      "Epoch: 141, train_loss: 17.5614, test_loss: 18.6970, train_acc: 0.4803, test_acc: 0.3982\n",
      "Epoch: 142, train_loss: 17.5578, test_loss: 18.6931, train_acc: 0.4803, test_acc: 0.3982\n",
      "Epoch: 143, train_loss: 17.5546, test_loss: 18.6897, train_acc: 0.4803, test_acc: 0.3982\n",
      "Epoch: 144, train_loss: 17.5512, test_loss: 18.6861, train_acc: 0.4804, test_acc: 0.3983\n",
      "Epoch: 145, train_loss: 17.5481, test_loss: 18.6826, train_acc: 0.4804, test_acc: 0.3982\n",
      "Epoch: 146, train_loss: 17.5449, test_loss: 18.6791, train_acc: 0.4804, test_acc: 0.3983\n",
      "Epoch: 147, train_loss: 17.5417, test_loss: 18.6757, train_acc: 0.4804, test_acc: 0.3982\n",
      "Epoch: 148, train_loss: 17.5388, test_loss: 18.6725, train_acc: 0.4804, test_acc: 0.3982\n",
      "Epoch: 149, train_loss: 17.5356, test_loss: 18.6691, train_acc: 0.4804, test_acc: 0.3982\n",
      "Epoch: 150, train_loss: 17.5324, test_loss: 18.6656, train_acc: 0.4804, test_acc: 0.3983\n",
      "Epoch: 151, train_loss: 17.5294, test_loss: 18.6624, train_acc: 0.4804, test_acc: 0.3983\n",
      "Epoch: 152, train_loss: 17.5266, test_loss: 18.6594, train_acc: 0.4803, test_acc: 0.3982\n",
      "Epoch: 153, train_loss: 17.5238, test_loss: 18.6563, train_acc: 0.4803, test_acc: 0.3982\n",
      "Epoch: 154, train_loss: 17.5208, test_loss: 18.6532, train_acc: 0.4803, test_acc: 0.3982\n",
      "Epoch: 155, train_loss: 17.5180, test_loss: 18.6501, train_acc: 0.4804, test_acc: 0.3982\n",
      "Epoch: 156, train_loss: 17.5153, test_loss: 18.6472, train_acc: 0.4804, test_acc: 0.3983\n",
      "Epoch: 157, train_loss: 17.5124, test_loss: 18.6441, train_acc: 0.4804, test_acc: 0.3983\n",
      "Epoch: 158, train_loss: 17.5097, test_loss: 18.6412, train_acc: 0.4805, test_acc: 0.3983\n",
      "Epoch: 159, train_loss: 17.5073, test_loss: 18.6385, train_acc: 0.4805, test_acc: 0.3983\n",
      "Epoch: 160, train_loss: 17.5047, test_loss: 18.6357, train_acc: 0.4805, test_acc: 0.3983\n",
      "Epoch: 161, train_loss: 17.5021, test_loss: 18.6329, train_acc: 0.4805, test_acc: 0.3983\n",
      "Epoch: 162, train_loss: 17.4995, test_loss: 18.6301, train_acc: 0.4805, test_acc: 0.3983\n",
      "Epoch: 163, train_loss: 17.4971, test_loss: 18.6275, train_acc: 0.4805, test_acc: 0.3984\n",
      "Epoch: 164, train_loss: 17.4945, test_loss: 18.6247, train_acc: 0.4805, test_acc: 0.3984\n",
      "Epoch: 165, train_loss: 17.4920, test_loss: 18.6220, train_acc: 0.4805, test_acc: 0.3984\n",
      "Epoch: 166, train_loss: 17.4895, test_loss: 18.6193, train_acc: 0.4807, test_acc: 0.3985\n",
      "Epoch: 167, train_loss: 17.4871, test_loss: 18.6167, train_acc: 0.4807, test_acc: 0.3985\n",
      "Epoch: 168, train_loss: 17.4847, test_loss: 18.6141, train_acc: 0.4808, test_acc: 0.3986\n",
      "Epoch: 169, train_loss: 17.4823, test_loss: 18.6115, train_acc: 0.4807, test_acc: 0.3985\n",
      "Epoch: 170, train_loss: 17.4798, test_loss: 18.6088, train_acc: 0.4808, test_acc: 0.3986\n",
      "Epoch: 171, train_loss: 17.4775, test_loss: 18.6063, train_acc: 0.4809, test_acc: 0.3987\n",
      "Epoch: 172, train_loss: 17.4754, test_loss: 18.6040, train_acc: 0.4810, test_acc: 0.3987\n",
      "Epoch: 173, train_loss: 17.4732, test_loss: 18.6015, train_acc: 0.4810, test_acc: 0.3988\n",
      "Epoch: 174, train_loss: 17.4709, test_loss: 18.5991, train_acc: 0.4810, test_acc: 0.3987\n",
      "Epoch: 175, train_loss: 17.4686, test_loss: 18.5966, train_acc: 0.4810, test_acc: 0.3988\n",
      "Epoch: 176, train_loss: 17.4665, test_loss: 18.5944, train_acc: 0.4811, test_acc: 0.3988\n",
      "Epoch: 177, train_loss: 17.4645, test_loss: 18.5921, train_acc: 0.4811, test_acc: 0.3989\n",
      "Epoch: 178, train_loss: 17.4624, test_loss: 18.5899, train_acc: 0.4811, test_acc: 0.3988\n",
      "Epoch: 179, train_loss: 17.4604, test_loss: 18.5876, train_acc: 0.4811, test_acc: 0.3988\n",
      "Epoch: 180, train_loss: 17.4583, test_loss: 18.5853, train_acc: 0.4810, test_acc: 0.3988\n",
      "Epoch: 181, train_loss: 17.4562, test_loss: 18.5831, train_acc: 0.4811, test_acc: 0.3988\n",
      "Epoch: 182, train_loss: 17.4544, test_loss: 18.5811, train_acc: 0.4810, test_acc: 0.3988\n",
      "Epoch: 183, train_loss: 17.4524, test_loss: 18.5789, train_acc: 0.4810, test_acc: 0.3988\n",
      "Epoch: 184, train_loss: 17.4503, test_loss: 18.5766, train_acc: 0.4811, test_acc: 0.3988\n",
      "Epoch: 185, train_loss: 17.4483, test_loss: 18.5745, train_acc: 0.4811, test_acc: 0.3988\n",
      "Epoch: 186, train_loss: 17.4463, test_loss: 18.5723, train_acc: 0.4812, test_acc: 0.3989\n"
     ]
    },
    {
     "name": "stdout",
     "output_type": "stream",
     "text": [
      "Epoch: 187, train_loss: 17.4444, test_loss: 18.5703, train_acc: 0.4812, test_acc: 0.3989\n",
      "Epoch: 188, train_loss: 17.4425, test_loss: 18.5682, train_acc: 0.4813, test_acc: 0.3990\n",
      "Epoch: 189, train_loss: 17.4408, test_loss: 18.5664, train_acc: 0.4813, test_acc: 0.3990\n",
      "Epoch: 190, train_loss: 17.4391, test_loss: 18.5644, train_acc: 0.4812, test_acc: 0.3989\n",
      "Epoch: 191, train_loss: 17.4372, test_loss: 18.5624, train_acc: 0.4813, test_acc: 0.3990\n",
      "Epoch: 192, train_loss: 17.4354, test_loss: 18.5605, train_acc: 0.4813, test_acc: 0.3990\n",
      "Epoch: 193, train_loss: 17.4335, test_loss: 18.5584, train_acc: 0.4814, test_acc: 0.3991\n",
      "Epoch: 194, train_loss: 17.4317, test_loss: 18.5565, train_acc: 0.4814, test_acc: 0.3991\n",
      "Epoch: 195, train_loss: 17.4301, test_loss: 18.5547, train_acc: 0.4814, test_acc: 0.3991\n",
      "Epoch: 196, train_loss: 17.4284, test_loss: 18.5528, train_acc: 0.4814, test_acc: 0.3991\n",
      "Epoch: 197, train_loss: 17.4266, test_loss: 18.5509, train_acc: 0.4815, test_acc: 0.3991\n",
      "Epoch: 198, train_loss: 17.4250, test_loss: 18.5491, train_acc: 0.4815, test_acc: 0.3992\n",
      "Epoch: 199, train_loss: 17.4234, test_loss: 18.5473, train_acc: 0.4815, test_acc: 0.3991\n"
     ]
    }
   ],
   "source": [
    "train_losses, train_accs = [], []\n",
    "test_losses, test_accs = [], []\n",
    "\n",
    "for epoch in range(epoches):\n",
    "    P = np.linalg.inv(Q.dot(Q.T) + np.eye(Q.shape[0]) * gamma).dot(Q).dot(train_mtx.T)\n",
    "    Q = np.linalg.inv(P.dot(P.T) + np.eye(P.shape[0]) * gamma).dot(P).dot(train_mtx)\n",
    "    \n",
    "    train_loss, train_acc = calc_loss_acc(P, Q, train_mtx)\n",
    "    test_loss, test_acc = calc_loss_acc(P, Q, test_mtx)\n",
    "    \n",
    "    train_losses.append(train_loss)\n",
    "    train_accs.append(train_acc)\n",
    "    test_losses.append(test_loss)\n",
    "    test_accs.append(test_acc)\n",
    "    \n",
    "    if epoch % show_epoch == 0:\n",
    "        print('Epoch: %d, train_loss: %.4f, test_loss: %.4f, train_acc: %.4f, test_acc: %.4f' % (epoch, train_loss, test_loss, train_acc, test_acc))\n",
    "    "
   ]
  },
  {
   "cell_type": "code",
   "execution_count": 28,
   "metadata": {},
   "outputs": [
    {
     "data": {
      "image/png": "[encoded data removed]",
      "text/plain": [
       "<Figure size 432x288 with 1 Axes>"
      ]
     },
     "metadata": {
      "needs_background": "light"
     },
     "output_type": "display_data"
    }
   ],
   "source": [
    "plot_range = range(1, len(train_accs) + 1)\n",
    "\n",
    "plt.plot(plot_range, train_losses, 'b')\n",
    "plt.plot(plot_range, test_losses, 'r')\n",
    "plt.legend(['train loss', 'val loss'])\n",
    "plt.savefig('./lab_3_2_1.pdf')\n",
    "plt.show()"
   ]
  },
  {
   "cell_type": "code",
   "execution_count": 29,
   "metadata": {},
   "outputs": [
    {
     "data": {
      "image/png": "[encoded data removed]",
      "text/plain": [
       "<Figure size 432x288 with 1 Axes>"
      ]
     },
     "metadata": {
      "needs_background": "light"
     },
     "output_type": "display_data"
    }
   ],
   "source": [
    "plt.plot(plot_range, train_accs, 'b')\n",
    "plt.plot(plot_range, test_accs, 'r')\n",
    "plt.legend(['train acc', 'val acc'])\n",
    "plt.savefig('./lab_3_2_2.pdf')\n",
    "plt.show()"
   ]
  }
 ],
 "metadata": {
  "kernelspec": {
   "display_name": "Python 3",
   "language": "python",
   "name": "python3"
  },
  "language_info": {
   "codemirror_mode": {
    "name": "ipython",
    "version": 3
   },
   "file_extension": ".py",
   "mimetype": "text/x-python",
   "name": "python",
   "nbconvert_exporter": "python",
   "pygments_lexer": "ipython3",
   "version": "3.6.3"
  }
 },
 "nbformat": 4,
 "nbformat_minor": 2
}