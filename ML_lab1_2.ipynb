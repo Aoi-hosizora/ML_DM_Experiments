{
 "cells": [
  {
   "cell_type": "code",
   "execution_count": 1,
   "metadata": {},
   "outputs": [],
   "source": [
    "import numpy as np\n",
    "from sklearn import datasets, model_selection\n",
    "import matplotlib.pyplot as plt"
   ]
  },
  {
   "cell_type": "code",
   "execution_count": 2,
   "metadata": {
    "scrolled": true
   },
   "outputs": [],
   "source": [
    "x, y = datasets.load_svmlight_file('./housing_scale.csv', n_features=13)\n",
    "xs_train, xs_val, ys_train, ys_val = model_selection.train_test_split(x, y, test_size=0.25)\n",
    "\n",
    "xs_train = xs_train.A # numpy\n",
    "xs_val = xs_val.A\n",
    "\n",
    "xs_train = np.c_[xs_train, np.ones(len(xs_train))] # +1\n",
    "xs_val = np.c_[xs_val, np.ones(len(xs_val))]"
   ]
  },
  {
   "cell_type": "code",
   "execution_count": 3,
   "metadata": {},
   "outputs": [],
   "source": [
    "def getLoss(xs, ys):\n",
    "    loss = 0\n",
    "    grad = 0\n",
    "    for x, y in zip(xs, ys):\n",
    "        y_calc = W.T.dot(x)\n",
    "        loss += (y_calc - y) ** 2 # 均方\n",
    "        grad += (y_calc - y) * x # 梯度\n",
    "    loss /= len(xs)\n",
    "    grad = grad.reshape(-1, 1)\n",
    "    return loss, grad"
   ]
  },
  {
   "cell_type": "code",
   "execution_count": 4,
   "metadata": {
    "scrolled": true
   },
   "outputs": [
    {
     "name": "stdout",
     "output_type": "stream",
     "text": [
      "epoch  1 : loss_train:  [681.09287812]  loss_val:  [485.35472149]\n",
      "epoch  2 : loss_train:  [486.00018461]  loss_val:  [351.52366773]\n",
      "epoch  3 : loss_train:  [354.76102265]  loss_val:  [265.5393933]\n",
      "epoch  4 : loss_train:  [262.40768111]  loss_val:  [198.77048921]\n",
      "epoch  5 : loss_train:  [196.63822267]  loss_val:  [155.52879053]\n",
      "epoch  6 : loss_train:  [149.58228003]  loss_val:  [120.06277197]\n",
      "epoch  7 : loss_train:  [115.79908492]  loss_val:  [98.75960806]\n",
      "epoch  8 : loss_train:  [91.45602488]  loss_val:  [79.2746337]\n",
      "epoch  9 : loss_train:  [73.84048248]  loss_val:  [68.92161648]\n",
      "epoch  10 : loss_train:  [61.02928327]  loss_val:  [57.84079281]\n",
      "epoch  11 : loss_train:  [51.65736521]  loss_val:  [52.88098721]\n",
      "epoch  12 : loss_train:  [44.75464493]  loss_val:  [46.33742913]\n",
      "epoch  13 : loss_train:  [39.63075967]  loss_val:  [44.00412816]\n",
      "epoch  14 : loss_train:  [35.79358248]  loss_val:  [39.98631716]\n",
      "epoch  15 : loss_train:  [32.89159055]  loss_val:  [38.91401326]\n",
      "epoch  16 : loss_train:  [30.67308693]  loss_val:  [36.35272857]\n",
      "epoch  17 : loss_train:  [28.95733306]  loss_val:  [35.87376753]\n",
      "epoch  18 : loss_train:  [27.61410118]  loss_val:  [34.18508504]\n",
      "epoch  19 : loss_train:  [26.54918062]  loss_val:  [33.97721907]\n",
      "epoch  20 : loss_train:  [25.6940955]  loss_val:  [32.83167328]\n",
      "epoch  21 : loss_train:  [24.99880283]  loss_val:  [32.74228318]\n",
      "epoch  22 : loss_train:  [24.42650073]  loss_val:  [31.94701034]\n",
      "epoch  23 : loss_train:  [23.94993157]  loss_val:  [31.90584417]\n",
      "epoch  24 : loss_train:  [23.54874495]  loss_val:  [31.34350997]\n",
      "epoch  25 : loss_train:  [23.20761284]  loss_val:  [31.31964274]\n",
      "epoch  26 : loss_train:  [22.91487881]  loss_val:  [30.91614996]\n",
      "epoch  27 : loss_train:  [22.66158734]  loss_val:  [30.89695817]\n",
      "epoch  28 : loss_train:  [22.44078374]  loss_val:  [30.60391862]\n",
      "epoch  29 : loss_train:  [22.24700721]  loss_val:  [30.58495718]\n",
      "epoch  30 : loss_train:  [22.07592205]  loss_val:  [30.36986801]\n",
      "epoch  31 : loss_train:  [21.92404785]  loss_val:  [30.3501035]\n",
      "epoch  32 : loss_train:  [21.78856092]  loss_val:  [30.19063658]\n",
      "epoch  33 : loss_train:  [21.66714712]  loss_val:  [30.17027998]\n",
      "epoch  34 : loss_train:  [21.55789193]  loss_val:  [30.05083158]\n",
      "epoch  35 : loss_train:  [21.45919758]  loss_val:  [30.03040926]\n",
      "epoch  36 : loss_train:  [21.36972009]  loss_val:  [29.93993529]\n",
      "epoch  37 : loss_train:  [21.2883209]  loss_val:  [29.91993261]\n",
      "epoch  38 : loss_train:  [21.21402935]  loss_val:  [29.85054328]\n",
      "epoch  39 : loss_train:  [21.14601328]  loss_val:  [29.83130057]\n",
      "epoch  40 : loss_train:  [21.08355573]  loss_val:  [29.7773213]\n",
      "epoch  41 : loss_train:  [21.02603629]  loss_val:  [29.75903158]\n",
      "epoch  42 : loss_train:  [20.97291603]  loss_val:  [29.71636096]\n",
      "epoch  43 : loss_train:  [20.92372519]  loss_val:  [29.69910147]\n",
      "epoch  44 : loss_train:  [20.87805308]  loss_val:  [29.66476435]\n",
      "epoch  45 : loss_train:  [20.83553963]  loss_val:  [29.64853314]\n",
      "epoch  46 : loss_train:  [20.79586841]  loss_val:  [29.62036552]\n",
      "epoch  47 : loss_train:  [20.75876067]  loss_val:  [29.60511267]\n",
      "epoch  48 : loss_train:  [20.72397037]  loss_val:  [29.58153738]\n",
      "epoch  49 : loss_train:  [20.69127988]  loss_val:  [29.56718813]\n",
      "epoch  50 : loss_train:  [20.66049636]  loss_val:  [29.54705385]\n"
     ]
    }
   ],
   "source": [
    "# [0, 1) 内随机初始化\n",
    "W = np.random.random([14, 1])\n",
    "lr = 1e-3\n",
    "\n",
    "losses_train, losses_val = [], []\n",
    "\n",
    "for epoch in range(50):\n",
    "    loss_train, grad = getLoss(xs_train, ys_train)\n",
    "    W = W - lr * grad # 全批次梯度下降\n",
    "    \n",
    "    loss_val, _ = getLoss(xs_val, ys_val)\n",
    "    losses_train.append(loss_train)\n",
    "    losses_val.append(loss_val)\n",
    "    \n",
    "    print(\"epoch \", epoch + 1, \": loss_train: \", loss_train, \" loss_val: \", loss_val)"
   ]
  },
  {
   "cell_type": "code",
   "execution_count": 5,
   "metadata": {},
   "outputs": [
    {
     "data": {
      "image/png": "[encoded data removed]",
      "text/plain": [
       "<Figure size 432x288 with 1 Axes>"
      ]
     },
     "metadata": {
      "needs_background": "light"
     },
     "output_type": "display_data"
    }
   ],
   "source": [
    "plt.plot([i for i in range(len(losses_train))], losses_train, 'b')\n",
    "plt.plot([i for i in range(len(losses_val))], losses_val, 'r')\n",
    "plt.legend([\"training loss\",\"validation loss\"])\n",
    "plt.savefig('./lab_1_2_1.pdf')\n",
    "plt.show()"
   ]
  }
 ],
 "metadata": {
  "kernelspec": {
   "display_name": "'Python Interactive'",
   "language": "python",
   "name": "2e55add6-6ef0-46af-a154-8c252cb7e53c"
  },
  "language_info": {
   "codemirror_mode": {
    "name": "ipython",
    "version": 3
   },
   "file_extension": ".py",
   "mimetype": "text/x-python",
   "name": "python",
   "nbconvert_exporter": "python",
   "pygments_lexer": "ipython3",
   "version": "3.6.3"
  }
 },
 "nbformat": 4,
 "nbformat_minor": 2
}
