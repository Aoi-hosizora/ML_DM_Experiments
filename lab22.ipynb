{
 "cells": [
  {
   "cell_type": "code",
   "execution_count": 1,
   "metadata": {},
   "outputs": [],
   "source": [
    "import numpy as np\n",
    "from sklearn import datasets, model_selection\n",
    "import matplotlib.pyplot as plt"
   ]
  },
  {
   "cell_type": "code",
   "execution_count": 2,
   "metadata": {},
   "outputs": [],
   "source": [
    "xs_train, ys_train = datasets.load_svmlight_file('./a9a.csv', n_features=123)\n",
    "xs_val, ys_val = datasets.load_svmlight_file('./a9a_t.csv', n_features=123)\n",
    "\n",
    "xs_train = xs_train.A # numpy\n",
    "xs_val = xs_val.A\n",
    "\n",
    "xs_train = np.c_[xs_train, np.ones(len(xs_train))]\n",
    "xs_val = np.c_[xs_val, np.ones(len(xs_val))]"
   ]
  },
  {
   "cell_type": "code",
   "execution_count": 3,
   "metadata": {},
   "outputs": [],
   "source": [
    "alpha = 0.5 # (0, 1)\n",
    "\n",
    "def getLoss(xs, ys):\n",
    "    loss = 0\n",
    "    grad = 0\n",
    "    for x, y in zip(xs, ys):\n",
    "        arg = 1 - y * W.T.dot(x)[0]\n",
    "        loss += np.maximum(0, arg)\n",
    "        grad += 0 if arg < 0 else y * x\n",
    "        \n",
    "    loss += alpha + np.linalg.norm(W.reshape((-1, 1))) / 2\n",
    "    loss /= len(xs)\n",
    "\n",
    "    grad = 2 * alpha * W - grad.reshape(-1, 1)\n",
    "    grad /= len(xs)\n",
    "    \n",
    "    return loss, grad\n",
    "\n",
    "# 接受率\n",
    "def getAcc(xs, ys):\n",
    "    acc = 0\n",
    "    for x, y in zip(xs, ys):\n",
    "        y_calc = W.T.dot(x)\n",
    "        y_calc = 1 if y_calc >= 0 else -1 # 阈值\n",
    "        if (y == y_calc):\n",
    "            acc += 1 \n",
    "    acc /= len(xs)\n",
    "    return acc"
   ]
  },
  {
   "cell_type": "markdown",
   "metadata": {},
   "source": [
    "SVM Hinge 损失函数：\n",
    "$$\n",
    "\\hat{y_i} = W^Tx_i \\\\\n",
    "Loss = \\sum_{i = 0}^{\\#x}[\\max(0, 1 - y_i\\hat{y_i})] + \\lambda\\|W\\|^2_2 \\\\\n",
    "\\frac {\\partial Loss} {\\partial W} = 2 \\lambda W - \\sum_{i = 0}^{\\#x}(1 - y_i\\hat{y_i} > 0 \\;?\\; y_i * x_i : 0) \\\\\n",
    "\\lambda := \\frac{1}{2C}\\in(0, 1)\\;(C>0\\;为惩罚参数，越大惩罚越大)\n",
    "$$"
   ]
  },
  {
   "cell_type": "code",
   "execution_count": 4,
   "metadata": {},
   "outputs": [
    {
     "name": "stdout",
     "output_type": "stream",
     "text": [
      "epoch:  0 loss_train:  5.588934083046845  loss_val:  5.621389614853531 acc_val:  0.23622627602727106\n",
      "epoch:  10 loss_train:  1.0301860259742568  loss_val:  1.1070240655988324 acc_val:  0.5093053252257232\n",
      "epoch:  20 loss_train:  0.6009120987162754  loss_val:  0.6126985046877221 acc_val:  0.7437503838830538\n",
      "epoch:  30 loss_train:  0.5541145105910732  loss_val:  0.5647829843219507 acc_val:  0.762238191757263\n",
      "epoch:  40 loss_train:  0.5170666089911107  loss_val:  0.532193329154958 acc_val:  0.7740925004606597\n",
      "epoch:  50 loss_train:  0.4892228326190589  loss_val:  0.5081090436828637 acc_val:  0.7828757447331245\n",
      "epoch:  60 loss_train:  0.4690486605024715  loss_val:  0.48918506638909665 acc_val:  0.7904305632332166\n",
      "epoch:  70 loss_train:  0.45241464603206133  loss_val:  0.4742109278895289 acc_val:  0.7971254836926479\n",
      "epoch:  80 loss_train:  0.4402505033376876  loss_val:  0.46182685861349193 acc_val:  0.8023462932252319\n",
      "epoch:  90 loss_train:  0.43036487531995316  loss_val:  0.45130411773062207 acc_val:  0.807198575026104\n",
      "epoch:  100 loss_train:  0.42252249201806813  loss_val:  0.4422901286210607 acc_val:  0.8108838523432221\n",
      "epoch:  110 loss_train:  0.41626923237845487  loss_val:  0.43457965719299985 acc_val:  0.8145691296603402\n",
      "epoch:  120 loss_train:  0.41163104355476476  loss_val:  0.42781177572800244 acc_val:  0.8172716663595603\n",
      "epoch:  130 loss_train:  0.4072800727856905  loss_val:  0.4218639647283579 acc_val:  0.8194214114612125\n",
      "epoch:  140 loss_train:  0.4029901674905155  loss_val:  0.41655017267529587 acc_val:  0.8212640501197715\n",
      "epoch:  150 loss_train:  0.39969534910078935  loss_val:  0.4117996554617991 acc_val:  0.8220011055831952\n",
      "epoch:  160 loss_train:  0.3968576199772563  loss_val:  0.4075011958527577 acc_val:  0.8234752165100424\n",
      "epoch:  170 loss_train:  0.39452558670574184  loss_val:  0.4036194882360156 acc_val:  0.8261777532092623\n",
      "epoch:  180 loss_train:  0.39255594433075985  loss_val:  0.4000998184169324 acc_val:  0.827590442847491\n",
      "epoch:  190 loss_train:  0.39074333462111077  loss_val:  0.3968913917318196 acc_val:  0.8288802899084823\n"
     ]
    }
   ],
   "source": [
    "W = np.random.random([124, 1])\n",
    "lr = 1e-3\n",
    "\n",
    "losses_train, losses_val = [], []\n",
    "acc_val = []\n",
    "\n",
    "show_epoch = 10 # 显示\n",
    "batch_size = 100 # 批次大小\n",
    "\n",
    "epoches = 200\n",
    "batches = len(xs_train) // batch_size\n",
    "\n",
    "for epoch in range(epoches):\n",
    "    for batch in range(batches):\n",
    "        s = batch * batch_size\n",
    "        e = s + batch_size\n",
    "        \n",
    "        loss_train, grad = getLoss(xs_train[s:e], ys_train[s:e])\n",
    "        W = W - lr * grad # SGD\n",
    "        \n",
    "    loss_val, _ = getLoss(xs_val, ys_val)\n",
    "    losses_train.append(loss_train)    \n",
    "    losses_val.append(loss_val)\n",
    "    \n",
    "    acc = getAcc(xs_val, ys_val)\n",
    "    acc_val.append(acc)\n",
    "    \n",
    "    if epoch % show_epoch == 0:\n",
    "        print(\"epoch: \", epoch, \"loss_train: \", loss_train, \" loss_val: \", loss_val, \"acc_val: \", acc)"
   ]
  },
  {
   "cell_type": "code",
   "execution_count": 5,
   "metadata": {},
   "outputs": [
    {
     "data": {
      "image/png": "[encoded data removed]",
      "text/plain": [
       "<Figure size 432x288 with 1 Axes>"
      ]
     },
     "metadata": {
      "needs_background": "light"
     },
     "output_type": "display_data"
    }
   ],
   "source": [
    "plt.plot([i for i in range(len(losses_train))], losses_train, 'b')\n",
    "plt.plot([i for i in range(len(losses_val))], losses_val, 'r')\n",
    "plt.legend([\"training loss\",\"validation loss\"])\n",
    "plt.savefig('./lab_2_2_1.pdf')\n",
    "plt.show()"
   ]
  },
  {
   "cell_type": "code",
   "execution_count": 6,
   "metadata": {},
   "outputs": [
    {
     "data": {
      "image/png": "[encoded data removed]",
      "text/plain": [
       "<Figure size 432x288 with 1 Axes>"
      ]
     },
     "metadata": {
      "needs_background": "light"
     },
     "output_type": "display_data"
    }
   ],
   "source": [
    "plt.plot([i for i in range(len(acc_val))], acc_val)\n",
    "plt.legend([\"validation acc\"])\n",
    "plt.savefig('./lab_2_2_2.pdf')\n",
    "plt.show()"
   ]
  }
 ],
 "metadata": {
  "file_extension": ".py",
  "kernelspec": {
   "display_name": "Python 3",
   "language": "python",
   "name": "python3"
  },
  "language_info": {
   "codemirror_mode": {
    "name": "ipython",
    "version": 3
   },
   "file_extension": ".py",
   "mimetype": "text/x-python",
   "name": "python",
   "nbconvert_exporter": "python",
   "pygments_lexer": "ipython3",
   "version": "3.6.3"
  },
  "mimetype": "text/x-python",
  "name": "python",
  "npconvert_exporter": "python",
  "pygments_lexer": "ipython3",
  "version": 3
 },
 "nbformat": 4,
 "nbformat_minor": 2
}
