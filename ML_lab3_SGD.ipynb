{
 "cells": [
  {
   "cell_type": "code",
   "execution_count": 1,
   "metadata": {},
   "outputs": [],
   "source": [
    "import numpy as np\n",
    "import matplotlib.pyplot as plt\n",
    "import pandas as pd"
   ]
  },
  {
   "cell_type": "code",
   "execution_count": 2,
   "metadata": {},
   "outputs": [],
   "source": [
    "def open_csv(filename):\n",
    "    df = pd.read_csv(filename, header=None, sep='\\t')\n",
    "    cols = [(line[0], line[1], line[2]) for _, line in df.iterrows()]\n",
    "    return [c[0] for c in cols], [c[1] for c in cols], [c[2] for c in cols]\n",
    "    \n",
    "train_user_ids, train_movie_ids, train_scores = open_csv('./u1.base')\n",
    "test_user_ids, test_movie_ids, test_scores = open_csv('./u1.test')\n",
    "\n",
    "train_user_ids = np.array(train_user_ids) - 1 # id1 -> id0\n",
    "train_movie_ids = np.array(train_movie_ids) - 1\n",
    "test_user_ids = np.array(test_user_ids) - 1\n",
    "test_movie_ids = np.array(test_movie_ids) - 1"
   ]
  },
  {
   "cell_type": "code",
   "execution_count": 17,
   "metadata": {},
   "outputs": [],
   "source": [
    "# 数据处理\n",
    "u_len = max(np.max(train_user_ids), np.max(test_user_ids)) + 1\n",
    "i_len = max(np.max(train_movie_ids), np.max(test_movie_ids)) + 1\n",
    "\n",
    "train_mtx = np.zeros((u_len, i_len), dtype=np.int)\n",
    "for u, i, c in zip(train_user_ids, train_movie_ids, train_scores):\n",
    "    train_mtx[u][i] = c\n",
    "    \n",
    "test_mtx = np.array(train_mtx, dtype=np.int)\n",
    "for u, i, c in zip(test_user_ids, test_movie_ids, test_scores):\n",
    "    test_mtx[u][i] = c\n",
    "\n",
    "k = 200\n",
    "P = np.random.random((k, u_len))\n",
    "Q = np.random.random((k, i_len))"
   ]
  },
  {
   "cell_type": "code",
   "execution_count": 18,
   "metadata": {},
   "outputs": [],
   "source": [
    "# 训练超参数\n",
    "lr = 1e-3\n",
    "gamma = 0.4\n",
    "\n",
    "epoches = 200\n",
    "show_epoch = 1"
   ]
  },
  {
   "cell_type": "markdown",
   "metadata": {},
   "source": [
    "$$\n",
    "pred_{ui} = P_u^TQ_i \\\\\n",
    "Loss = \\frac{1}{\\#R}\\sum[(pred_{ui} - R_{ui})^2 + \\gamma(\\|P_u\\|^2 + \\|Q_i\\|^2)] \\\\\n",
    "\\frac{\\partial Loss}{\\partial P} = \\frac{2}{\\#R}[(pred_{ui} - R_{ui})Q_i + \\gamma P_u] \\\\\n",
    "\\frac{\\partial Loss}{\\partial Q} = \\frac{2}{\\#R}[(pred_{ui} - R_{ui})P_u + \\gamma Q_i] \\\\\n",
    "$$"
   ]
  },
  {
   "cell_type": "code",
   "execution_count": 19,
   "metadata": {},
   "outputs": [
    {
     "data": {
      "text/plain": [
       "(56.882860029947, 0.21201)"
      ]
     },
     "execution_count": 19,
     "metadata": {},
     "output_type": "execute_result"
    }
   ],
   "source": [
    "def calc_loss_acc(P, Q, mtx):\n",
    "    pred = np.clip(np.round(P.T.dot(Q)).astype(np.int), 1, 5)\n",
    "    \n",
    "    num, loss, acc = 0, 0, 0\n",
    "    for u in range(mtx.shape[0]):\n",
    "        for i in range(mtx.shape[1]):\n",
    "            if mtx[u][i] != 0:\n",
    "                num += 1\n",
    "                loss += (pred[u, i] - mtx[u, i]) ** 2 + gamma * ((np.linalg.norm(P[:, u]) ** 2 + np.linalg.norm(Q[:, i]) ** 2))\n",
    "                acc += 1 if mtx[u][i] == pred[u][i] else 0\n",
    "\n",
    "    return loss / num, acc / num\n",
    "\n",
    "calc_loss_acc(P, Q, test_mtx)"
   ]
  },
  {
   "cell_type": "code",
   "execution_count": 20,
   "metadata": {},
   "outputs": [
    {
     "name": "stdout",
     "output_type": "stream",
     "text": [
      "Epoch: 0, train_loss: 21.7898, test_loss: 21.8056, train_acc: 0.1116, test_acc: 0.1130\n",
      "Epoch: 1, train_loss: 18.5780, test_loss: 18.6706, train_acc: 0.1251, test_acc: 0.1263\n",
      "Epoch: 2, train_loss: 16.5203, test_loss: 16.6562, train_acc: 0.1321, test_acc: 0.1327\n",
      "Epoch: 3, train_loss: 14.8732, test_loss: 15.0427, train_acc: 0.1390, test_acc: 0.1395\n",
      "Epoch: 4, train_loss: 13.4833, test_loss: 13.6799, train_acc: 0.1482, test_acc: 0.1482\n",
      "Epoch: 5, train_loss: 12.2840, test_loss: 12.4984, train_acc: 0.1611, test_acc: 0.1604\n",
      "Epoch: 6, train_loss: 11.2954, test_loss: 11.5112, train_acc: 0.1769, test_acc: 0.1751\n",
      "Epoch: 7, train_loss: 10.4703, test_loss: 10.6858, train_acc: 0.1943, test_acc: 0.1915\n",
      "Epoch: 8, train_loss: 9.7814, test_loss: 9.9914, train_acc: 0.2099, test_acc: 0.2062\n",
      "Epoch: 9, train_loss: 9.2076, test_loss: 9.4105, train_acc: 0.2276, test_acc: 0.2232\n",
      "Epoch: 10, train_loss: 8.7297, test_loss: 8.9231, train_acc: 0.2423, test_acc: 0.2374\n",
      "Epoch: 11, train_loss: 8.3233, test_loss: 8.5119, train_acc: 0.2555, test_acc: 0.2503\n",
      "Epoch: 12, train_loss: 7.9746, test_loss: 8.1580, train_acc: 0.2680, test_acc: 0.2626\n",
      "Epoch: 13, train_loss: 7.6750, test_loss: 7.8528, train_acc: 0.2776, test_acc: 0.2720\n",
      "Epoch: 14, train_loss: 7.4080, test_loss: 7.5805, train_acc: 0.2867, test_acc: 0.2809\n",
      "Epoch: 15, train_loss: 7.1736, test_loss: 7.3425, train_acc: 0.2929, test_acc: 0.2868\n",
      "Epoch: 16, train_loss: 6.9643, test_loss: 7.1281, train_acc: 0.2987, test_acc: 0.2930\n",
      "Epoch: 17, train_loss: 6.7763, test_loss: 6.9353, train_acc: 0.3034, test_acc: 0.2979\n",
      "Epoch: 18, train_loss: 6.6040, test_loss: 6.7590, train_acc: 0.3075, test_acc: 0.3022\n",
      "Epoch: 19, train_loss: 6.4507, test_loss: 6.6008, train_acc: 0.3113, test_acc: 0.3060\n",
      "Epoch: 20, train_loss: 6.3104, test_loss: 6.4561, train_acc: 0.3141, test_acc: 0.3092\n",
      "Epoch: 21, train_loss: 6.1804, test_loss: 6.3230, train_acc: 0.3165, test_acc: 0.3118\n",
      "Epoch: 22, train_loss: 6.0621, test_loss: 6.2011, train_acc: 0.3187, test_acc: 0.3140\n",
      "Epoch: 23, train_loss: 5.9526, test_loss: 6.0886, train_acc: 0.3206, test_acc: 0.3161\n",
      "Epoch: 24, train_loss: 5.8520, test_loss: 5.9842, train_acc: 0.3227, test_acc: 0.3183\n",
      "Epoch: 25, train_loss: 5.7567, test_loss: 5.8858, train_acc: 0.3245, test_acc: 0.3202\n",
      "Epoch: 26, train_loss: 5.6688, test_loss: 5.7950, train_acc: 0.3255, test_acc: 0.3216\n",
      "Epoch: 27, train_loss: 5.5869, test_loss: 5.7114, train_acc: 0.3263, test_acc: 0.3223\n",
      "Epoch: 28, train_loss: 5.5107, test_loss: 5.6330, train_acc: 0.3276, test_acc: 0.3237\n",
      "Epoch: 29, train_loss: 5.4394, test_loss: 5.5591, train_acc: 0.3284, test_acc: 0.3247\n",
      "Epoch: 30, train_loss: 5.3718, test_loss: 5.4892, train_acc: 0.3296, test_acc: 0.3260\n",
      "Epoch: 31, train_loss: 5.3087, test_loss: 5.4241, train_acc: 0.3303, test_acc: 0.3268\n",
      "Epoch: 32, train_loss: 5.2475, test_loss: 5.3615, train_acc: 0.3315, test_acc: 0.3278\n",
      "Epoch: 33, train_loss: 5.1916, test_loss: 5.3032, train_acc: 0.3323, test_acc: 0.3288\n",
      "Epoch: 34, train_loss: 5.1384, test_loss: 5.2485, train_acc: 0.3333, test_acc: 0.3296\n",
      "Epoch: 35, train_loss: 5.0883, test_loss: 5.1962, train_acc: 0.3341, test_acc: 0.3306\n",
      "Epoch: 36, train_loss: 5.0419, test_loss: 5.1479, train_acc: 0.3345, test_acc: 0.3310\n",
      "Epoch: 37, train_loss: 4.9970, test_loss: 5.1015, train_acc: 0.3348, test_acc: 0.3315\n",
      "Epoch: 38, train_loss: 4.9548, test_loss: 5.0577, train_acc: 0.3352, test_acc: 0.3319\n",
      "Epoch: 39, train_loss: 4.9150, test_loss: 5.0163, train_acc: 0.3357, test_acc: 0.3325\n",
      "Epoch: 40, train_loss: 4.8770, test_loss: 4.9762, train_acc: 0.3361, test_acc: 0.3332\n",
      "Epoch: 41, train_loss: 4.8409, test_loss: 4.9388, train_acc: 0.3368, test_acc: 0.3339\n",
      "Epoch: 42, train_loss: 4.8057, test_loss: 4.9022, train_acc: 0.3371, test_acc: 0.3343\n",
      "Epoch: 43, train_loss: 4.7730, test_loss: 4.8677, train_acc: 0.3375, test_acc: 0.3349\n",
      "Epoch: 44, train_loss: 4.7412, test_loss: 4.8348, train_acc: 0.3378, test_acc: 0.3351\n",
      "Epoch: 45, train_loss: 4.7110, test_loss: 4.8036, train_acc: 0.3384, test_acc: 0.3357\n",
      "Epoch: 46, train_loss: 4.6824, test_loss: 4.7741, train_acc: 0.3387, test_acc: 0.3360\n",
      "Epoch: 47, train_loss: 4.6547, test_loss: 4.7452, train_acc: 0.3388, test_acc: 0.3362\n",
      "Epoch: 48, train_loss: 4.6276, test_loss: 4.7171, train_acc: 0.3392, test_acc: 0.3365\n",
      "Epoch: 49, train_loss: 4.6025, test_loss: 4.6904, train_acc: 0.3395, test_acc: 0.3368\n",
      "Epoch: 50, train_loss: 4.5780, test_loss: 4.6649, train_acc: 0.3399, test_acc: 0.3372\n",
      "Epoch: 51, train_loss: 4.5544, test_loss: 4.6400, train_acc: 0.3403, test_acc: 0.3377\n",
      "Epoch: 52, train_loss: 4.5312, test_loss: 4.6156, train_acc: 0.3406, test_acc: 0.3381\n",
      "Epoch: 53, train_loss: 4.5098, test_loss: 4.5933, train_acc: 0.3408, test_acc: 0.3383\n",
      "Epoch: 54, train_loss: 4.4889, test_loss: 4.5714, train_acc: 0.3411, test_acc: 0.3386\n",
      "Epoch: 55, train_loss: 4.4693, test_loss: 4.5507, train_acc: 0.3412, test_acc: 0.3389\n",
      "Epoch: 56, train_loss: 4.4501, test_loss: 4.5310, train_acc: 0.3415, test_acc: 0.3392\n",
      "Epoch: 57, train_loss: 4.4319, test_loss: 4.5115, train_acc: 0.3415, test_acc: 0.3393\n",
      "Epoch: 58, train_loss: 4.4138, test_loss: 4.4927, train_acc: 0.3418, test_acc: 0.3394\n",
      "Epoch: 59, train_loss: 4.3967, test_loss: 4.4750, train_acc: 0.3418, test_acc: 0.3396\n",
      "Epoch: 60, train_loss: 4.3795, test_loss: 4.4569, train_acc: 0.3420, test_acc: 0.3397\n",
      "Epoch: 61, train_loss: 4.3642, test_loss: 4.4408, train_acc: 0.3420, test_acc: 0.3398\n",
      "Epoch: 62, train_loss: 4.3487, test_loss: 4.4246, train_acc: 0.3422, test_acc: 0.3401\n",
      "Epoch: 63, train_loss: 4.3341, test_loss: 4.4091, train_acc: 0.3424, test_acc: 0.3402\n",
      "Epoch: 64, train_loss: 4.3193, test_loss: 4.3938, train_acc: 0.3429, test_acc: 0.3407\n",
      "Epoch: 65, train_loss: 4.3055, test_loss: 4.3795, train_acc: 0.3431, test_acc: 0.3408\n",
      "Epoch: 66, train_loss: 4.2917, test_loss: 4.3650, train_acc: 0.3432, test_acc: 0.3410\n",
      "Epoch: 67, train_loss: 4.2788, test_loss: 4.3513, train_acc: 0.3433, test_acc: 0.3412\n",
      "Epoch: 68, train_loss: 4.2661, test_loss: 4.3378, train_acc: 0.3434, test_acc: 0.3413\n",
      "Epoch: 69, train_loss: 4.2537, test_loss: 4.3246, train_acc: 0.3435, test_acc: 0.3415\n",
      "Epoch: 70, train_loss: 4.2418, test_loss: 4.3119, train_acc: 0.3437, test_acc: 0.3417\n",
      "Epoch: 71, train_loss: 4.2304, test_loss: 4.3000, train_acc: 0.3439, test_acc: 0.3419\n",
      "Epoch: 72, train_loss: 4.2199, test_loss: 4.2887, train_acc: 0.3441, test_acc: 0.3421\n",
      "Epoch: 73, train_loss: 4.2095, test_loss: 4.2775, train_acc: 0.3441, test_acc: 0.3421\n",
      "Epoch: 74, train_loss: 4.1989, test_loss: 4.2661, train_acc: 0.3443, test_acc: 0.3424\n",
      "Epoch: 75, train_loss: 4.1886, test_loss: 4.2552, train_acc: 0.3445, test_acc: 0.3425\n",
      "Epoch: 76, train_loss: 4.1789, test_loss: 4.2449, train_acc: 0.3446, test_acc: 0.3425\n",
      "Epoch: 77, train_loss: 4.1693, test_loss: 4.2346, train_acc: 0.3447, test_acc: 0.3427\n",
      "Epoch: 78, train_loss: 4.1599, test_loss: 4.2247, train_acc: 0.3449, test_acc: 0.3430\n",
      "Epoch: 79, train_loss: 4.1508, test_loss: 4.2148, train_acc: 0.3450, test_acc: 0.3430\n",
      "Epoch: 80, train_loss: 4.1420, test_loss: 4.2056, train_acc: 0.3452, test_acc: 0.3431\n",
      "Epoch: 81, train_loss: 4.1336, test_loss: 4.1968, train_acc: 0.3452, test_acc: 0.3431\n",
      "Epoch: 82, train_loss: 4.1253, test_loss: 4.1880, train_acc: 0.3452, test_acc: 0.3432\n",
      "Epoch: 83, train_loss: 4.1171, test_loss: 4.1791, train_acc: 0.3453, test_acc: 0.3433\n",
      "Epoch: 84, train_loss: 4.1087, test_loss: 4.1705, train_acc: 0.3454, test_acc: 0.3433\n",
      "Epoch: 85, train_loss: 4.1012, test_loss: 4.1626, train_acc: 0.3454, test_acc: 0.3433\n",
      "Epoch: 86, train_loss: 4.0938, test_loss: 4.1547, train_acc: 0.3455, test_acc: 0.3434\n",
      "Epoch: 87, train_loss: 4.0866, test_loss: 4.1470, train_acc: 0.3454, test_acc: 0.3434\n",
      "Epoch: 88, train_loss: 4.0799, test_loss: 4.1397, train_acc: 0.3454, test_acc: 0.3434\n",
      "Epoch: 89, train_loss: 4.0731, test_loss: 4.1325, train_acc: 0.3453, test_acc: 0.3434\n",
      "Epoch: 90, train_loss: 4.0667, test_loss: 4.1255, train_acc: 0.3452, test_acc: 0.3433\n",
      "Epoch: 91, train_loss: 4.0601, test_loss: 4.1187, train_acc: 0.3453, test_acc: 0.3433\n",
      "Epoch: 92, train_loss: 4.0539, test_loss: 4.1122, train_acc: 0.3453, test_acc: 0.3434\n",
      "Epoch: 93, train_loss: 4.0477, test_loss: 4.1055, train_acc: 0.3454, test_acc: 0.3435\n",
      "Epoch: 94, train_loss: 4.0418, test_loss: 4.0991, train_acc: 0.3453, test_acc: 0.3434\n",
      "Epoch: 95, train_loss: 4.0360, test_loss: 4.0927, train_acc: 0.3453, test_acc: 0.3435\n"
     ]
    },
    {
     "name": "stdout",
     "output_type": "stream",
     "text": [
      "Epoch: 96, train_loss: 4.0299, test_loss: 4.0864, train_acc: 0.3453, test_acc: 0.3435\n",
      "Epoch: 97, train_loss: 4.0246, test_loss: 4.0806, train_acc: 0.3453, test_acc: 0.3436\n",
      "Epoch: 98, train_loss: 4.0189, test_loss: 4.0744, train_acc: 0.3454, test_acc: 0.3437\n",
      "Epoch: 99, train_loss: 4.0138, test_loss: 4.0688, train_acc: 0.3453, test_acc: 0.3437\n",
      "Epoch: 100, train_loss: 4.0084, test_loss: 4.0630, train_acc: 0.3455, test_acc: 0.3438\n",
      "Epoch: 101, train_loss: 4.0029, test_loss: 4.0572, train_acc: 0.3455, test_acc: 0.3438\n",
      "Epoch: 102, train_loss: 3.9979, test_loss: 4.0520, train_acc: 0.3455, test_acc: 0.3438\n",
      "Epoch: 103, train_loss: 3.9932, test_loss: 4.0468, train_acc: 0.3457, test_acc: 0.3439\n",
      "Epoch: 104, train_loss: 3.9882, test_loss: 4.0416, train_acc: 0.3458, test_acc: 0.3441\n",
      "Epoch: 105, train_loss: 3.9835, test_loss: 4.0365, train_acc: 0.3458, test_acc: 0.3441\n",
      "Epoch: 106, train_loss: 3.9791, test_loss: 4.0317, train_acc: 0.3457, test_acc: 0.3440\n",
      "Epoch: 107, train_loss: 3.9744, test_loss: 4.0266, train_acc: 0.3458, test_acc: 0.3441\n",
      "Epoch: 108, train_loss: 3.9702, test_loss: 4.0221, train_acc: 0.3458, test_acc: 0.3441\n",
      "Epoch: 109, train_loss: 3.9662, test_loss: 4.0176, train_acc: 0.3457, test_acc: 0.3441\n",
      "Epoch: 110, train_loss: 3.9617, test_loss: 4.0130, train_acc: 0.3457, test_acc: 0.3442\n",
      "Epoch: 111, train_loss: 3.9575, test_loss: 4.0084, train_acc: 0.3458, test_acc: 0.3442\n",
      "Epoch: 112, train_loss: 3.9534, test_loss: 4.0042, train_acc: 0.3458, test_acc: 0.3442\n",
      "Epoch: 113, train_loss: 3.9495, test_loss: 4.0000, train_acc: 0.3458, test_acc: 0.3443\n",
      "Epoch: 114, train_loss: 3.9460, test_loss: 3.9961, train_acc: 0.3457, test_acc: 0.3442\n",
      "Epoch: 115, train_loss: 3.9423, test_loss: 3.9920, train_acc: 0.3457, test_acc: 0.3442\n",
      "Epoch: 116, train_loss: 3.9385, test_loss: 3.9879, train_acc: 0.3457, test_acc: 0.3442\n",
      "Epoch: 117, train_loss: 3.9346, test_loss: 3.9838, train_acc: 0.3458, test_acc: 0.3442\n",
      "Epoch: 118, train_loss: 3.9311, test_loss: 3.9801, train_acc: 0.3458, test_acc: 0.3443\n",
      "Epoch: 119, train_loss: 3.9276, test_loss: 3.9763, train_acc: 0.3458, test_acc: 0.3443\n",
      "Epoch: 120, train_loss: 3.9241, test_loss: 3.9726, train_acc: 0.3458, test_acc: 0.3443\n",
      "Epoch: 121, train_loss: 3.9207, test_loss: 3.9689, train_acc: 0.3459, test_acc: 0.3443\n",
      "Epoch: 122, train_loss: 3.9172, test_loss: 3.9652, train_acc: 0.3460, test_acc: 0.3444\n",
      "Epoch: 123, train_loss: 3.9136, test_loss: 3.9614, train_acc: 0.3461, test_acc: 0.3444\n",
      "Epoch: 124, train_loss: 3.9108, test_loss: 3.9582, train_acc: 0.3460, test_acc: 0.3444\n",
      "Epoch: 125, train_loss: 3.9076, test_loss: 3.9550, train_acc: 0.3460, test_acc: 0.3444\n",
      "Epoch: 126, train_loss: 3.9046, test_loss: 3.9517, train_acc: 0.3460, test_acc: 0.3444\n",
      "Epoch: 127, train_loss: 3.9017, test_loss: 3.9485, train_acc: 0.3460, test_acc: 0.3444\n",
      "Epoch: 128, train_loss: 3.8988, test_loss: 3.9453, train_acc: 0.3461, test_acc: 0.3445\n",
      "Epoch: 129, train_loss: 3.8961, test_loss: 3.9424, train_acc: 0.3460, test_acc: 0.3445\n",
      "Epoch: 130, train_loss: 3.8933, test_loss: 3.9394, train_acc: 0.3460, test_acc: 0.3445\n",
      "Epoch: 131, train_loss: 3.8902, test_loss: 3.9362, train_acc: 0.3461, test_acc: 0.3446\n",
      "Epoch: 132, train_loss: 3.8875, test_loss: 3.9333, train_acc: 0.3461, test_acc: 0.3446\n",
      "Epoch: 133, train_loss: 3.8848, test_loss: 3.9304, train_acc: 0.3461, test_acc: 0.3446\n",
      "Epoch: 134, train_loss: 3.8823, test_loss: 3.9275, train_acc: 0.3461, test_acc: 0.3447\n",
      "Epoch: 135, train_loss: 3.8796, test_loss: 3.9246, train_acc: 0.3462, test_acc: 0.3447\n",
      "Epoch: 136, train_loss: 3.8768, test_loss: 3.9217, train_acc: 0.3462, test_acc: 0.3448\n",
      "Epoch: 137, train_loss: 3.8742, test_loss: 3.9189, train_acc: 0.3462, test_acc: 0.3447\n",
      "Epoch: 138, train_loss: 3.8716, test_loss: 3.9161, train_acc: 0.3462, test_acc: 0.3448\n",
      "Epoch: 139, train_loss: 3.8692, test_loss: 3.9134, train_acc: 0.3464, test_acc: 0.3449\n",
      "Epoch: 140, train_loss: 3.8665, test_loss: 3.9106, train_acc: 0.3465, test_acc: 0.3450\n",
      "Epoch: 141, train_loss: 3.8642, test_loss: 3.9081, train_acc: 0.3465, test_acc: 0.3450\n",
      "Epoch: 142, train_loss: 3.8619, test_loss: 3.9056, train_acc: 0.3465, test_acc: 0.3450\n",
      "Epoch: 143, train_loss: 3.8596, test_loss: 3.9031, train_acc: 0.3466, test_acc: 0.3451\n",
      "Epoch: 144, train_loss: 3.8573, test_loss: 3.9006, train_acc: 0.3465, test_acc: 0.3451\n",
      "Epoch: 145, train_loss: 3.8550, test_loss: 3.8981, train_acc: 0.3464, test_acc: 0.3450\n",
      "Epoch: 146, train_loss: 3.8527, test_loss: 3.8956, train_acc: 0.3464, test_acc: 0.3450\n",
      "Epoch: 147, train_loss: 3.8505, test_loss: 3.8933, train_acc: 0.3464, test_acc: 0.3451\n",
      "Epoch: 148, train_loss: 3.8483, test_loss: 3.8908, train_acc: 0.3465, test_acc: 0.3451\n",
      "Epoch: 149, train_loss: 3.8461, test_loss: 3.8885, train_acc: 0.3466, test_acc: 0.3452\n",
      "Epoch: 150, train_loss: 3.8440, test_loss: 3.8864, train_acc: 0.3467, test_acc: 0.3452\n",
      "Epoch: 151, train_loss: 3.8418, test_loss: 3.8842, train_acc: 0.3467, test_acc: 0.3452\n",
      "Epoch: 152, train_loss: 3.8398, test_loss: 3.8821, train_acc: 0.3468, test_acc: 0.3453\n",
      "Epoch: 153, train_loss: 3.8380, test_loss: 3.8801, train_acc: 0.3468, test_acc: 0.3453\n",
      "Epoch: 154, train_loss: 3.8362, test_loss: 3.8783, train_acc: 0.3467, test_acc: 0.3452\n",
      "Epoch: 155, train_loss: 3.8345, test_loss: 3.8763, train_acc: 0.3467, test_acc: 0.3452\n",
      "Epoch: 156, train_loss: 3.8326, test_loss: 3.8743, train_acc: 0.3468, test_acc: 0.3452\n",
      "Epoch: 157, train_loss: 3.8307, test_loss: 3.8722, train_acc: 0.3468, test_acc: 0.3453\n",
      "Epoch: 158, train_loss: 3.8288, test_loss: 3.8703, train_acc: 0.3468, test_acc: 0.3453\n",
      "Epoch: 159, train_loss: 3.8272, test_loss: 3.8685, train_acc: 0.3468, test_acc: 0.3453\n",
      "Epoch: 160, train_loss: 3.8254, test_loss: 3.8667, train_acc: 0.3468, test_acc: 0.3453\n",
      "Epoch: 161, train_loss: 3.8238, test_loss: 3.8650, train_acc: 0.3469, test_acc: 0.3453\n",
      "Epoch: 162, train_loss: 3.8222, test_loss: 3.8631, train_acc: 0.3468, test_acc: 0.3453\n",
      "Epoch: 163, train_loss: 3.8205, test_loss: 3.8613, train_acc: 0.3469, test_acc: 0.3454\n",
      "Epoch: 164, train_loss: 3.8187, test_loss: 3.8593, train_acc: 0.3469, test_acc: 0.3455\n",
      "Epoch: 165, train_loss: 3.8172, test_loss: 3.8577, train_acc: 0.3470, test_acc: 0.3455\n",
      "Epoch: 166, train_loss: 3.8156, test_loss: 3.8559, train_acc: 0.3470, test_acc: 0.3455\n",
      "Epoch: 167, train_loss: 3.8139, test_loss: 3.8541, train_acc: 0.3470, test_acc: 0.3456\n",
      "Epoch: 168, train_loss: 3.8125, test_loss: 3.8526, train_acc: 0.3470, test_acc: 0.3456\n",
      "Epoch: 169, train_loss: 3.8110, test_loss: 3.8508, train_acc: 0.3470, test_acc: 0.3456\n",
      "Epoch: 170, train_loss: 3.8093, test_loss: 3.8491, train_acc: 0.3470, test_acc: 0.3456\n",
      "Epoch: 171, train_loss: 3.8077, test_loss: 3.8473, train_acc: 0.3471, test_acc: 0.3457\n",
      "Epoch: 172, train_loss: 3.8061, test_loss: 3.8456, train_acc: 0.3471, test_acc: 0.3457\n",
      "Epoch: 173, train_loss: 3.8045, test_loss: 3.8440, train_acc: 0.3471, test_acc: 0.3457\n",
      "Epoch: 174, train_loss: 3.8032, test_loss: 3.8426, train_acc: 0.3472, test_acc: 0.3457\n",
      "Epoch: 175, train_loss: 3.8019, test_loss: 3.8412, train_acc: 0.3472, test_acc: 0.3457\n",
      "Epoch: 176, train_loss: 3.8006, test_loss: 3.8399, train_acc: 0.3472, test_acc: 0.3457\n",
      "Epoch: 177, train_loss: 3.7992, test_loss: 3.8384, train_acc: 0.3473, test_acc: 0.3458\n",
      "Epoch: 178, train_loss: 3.7979, test_loss: 3.8370, train_acc: 0.3473, test_acc: 0.3458\n",
      "Epoch: 179, train_loss: 3.7966, test_loss: 3.8356, train_acc: 0.3473, test_acc: 0.3458\n",
      "Epoch: 180, train_loss: 3.7953, test_loss: 3.8341, train_acc: 0.3473, test_acc: 0.3458\n",
      "Epoch: 181, train_loss: 3.7939, test_loss: 3.8326, train_acc: 0.3473, test_acc: 0.3458\n",
      "Epoch: 182, train_loss: 3.7927, test_loss: 3.8313, train_acc: 0.3473, test_acc: 0.3458\n",
      "Epoch: 183, train_loss: 3.7912, test_loss: 3.8297, train_acc: 0.3473, test_acc: 0.3458\n",
      "Epoch: 184, train_loss: 3.7898, test_loss: 3.8282, train_acc: 0.3473, test_acc: 0.3458\n",
      "Epoch: 185, train_loss: 3.7885, test_loss: 3.8268, train_acc: 0.3473, test_acc: 0.3458\n",
      "Epoch: 186, train_loss: 3.7872, test_loss: 3.8254, train_acc: 0.3473, test_acc: 0.3458\n",
      "Epoch: 187, train_loss: 3.7860, test_loss: 3.8242, train_acc: 0.3473, test_acc: 0.3458\n",
      "Epoch: 188, train_loss: 3.7850, test_loss: 3.8231, train_acc: 0.3472, test_acc: 0.3458\n",
      "Epoch: 189, train_loss: 3.7839, test_loss: 3.8219, train_acc: 0.3473, test_acc: 0.3458\n",
      "Epoch: 190, train_loss: 3.7827, test_loss: 3.8206, train_acc: 0.3473, test_acc: 0.3458\n"
     ]
    },
    {
     "name": "stdout",
     "output_type": "stream",
     "text": [
      "Epoch: 191, train_loss: 3.7815, test_loss: 3.8193, train_acc: 0.3473, test_acc: 0.3458\n",
      "Epoch: 192, train_loss: 3.7804, test_loss: 3.8181, train_acc: 0.3473, test_acc: 0.3458\n",
      "Epoch: 193, train_loss: 3.7793, test_loss: 3.8169, train_acc: 0.3472, test_acc: 0.3458\n",
      "Epoch: 194, train_loss: 3.7782, test_loss: 3.8157, train_acc: 0.3473, test_acc: 0.3458\n",
      "Epoch: 195, train_loss: 3.7770, test_loss: 3.8144, train_acc: 0.3473, test_acc: 0.3458\n",
      "Epoch: 196, train_loss: 3.7761, test_loss: 3.8134, train_acc: 0.3473, test_acc: 0.3458\n",
      "Epoch: 197, train_loss: 3.7750, test_loss: 3.8122, train_acc: 0.3473, test_acc: 0.3459\n",
      "Epoch: 198, train_loss: 3.7739, test_loss: 3.8110, train_acc: 0.3473, test_acc: 0.3458\n",
      "Epoch: 199, train_loss: 3.7727, test_loss: 3.8098, train_acc: 0.3473, test_acc: 0.3459\n"
     ]
    }
   ],
   "source": [
    "train_losses, train_accs = [], []\n",
    "test_losses, test_accs = [], []\n",
    "\n",
    "for epoch in range(epoches):\n",
    "    for u, i in zip(train_user_ids, train_movie_ids):\n",
    "        P[:, u] = P[:, u] - 2 * lr * (((P[:, u].T.dot(Q[:, i]) - train_mtx[u, i]) * Q[:, i]) + gamma * P[:, u])\n",
    "        Q[:, i] = Q[:, i] - 2 * lr * (((P[:, u].T.dot(Q[:, i]) - train_mtx[u, i]) * P[:, u]) + gamma * Q[:, i])\n",
    "        \n",
    "    train_loss, train_acc = calc_loss_acc(P, Q, train_mtx)\n",
    "    test_loss, test_acc = calc_loss_acc(P, Q, test_mtx)\n",
    "    \n",
    "    train_losses.append(train_loss)\n",
    "    train_accs.append(train_acc)\n",
    "    test_losses.append(test_loss)\n",
    "    test_accs.append(test_acc)\n",
    "    \n",
    "    if epoch % show_epoch == 0:\n",
    "        print('Epoch: %d, train_loss: %.4f, test_loss: %.4f, train_acc: %.4f, test_acc: %.4f' % (epoch, train_loss, test_loss, train_acc, test_acc))\n",
    "    "
   ]
  },
  {
   "cell_type": "code",
   "execution_count": 21,
   "metadata": {},
   "outputs": [
    {
     "data": {
      "image/png": "[encoded data removed]",
      "text/plain": [
       "<Figure size 432x288 with 1 Axes>"
      ]
     },
     "metadata": {
      "needs_background": "light"
     },
     "output_type": "display_data"
    }
   ],
   "source": [
    "plot_range = range(1, len(train_accs) + 1)\n",
    "\n",
    "plt.plot(plot_range, train_losses, 'b')\n",
    "plt.plot(plot_range, test_losses, 'r')\n",
    "plt.legend(['train loss', 'val loss'])\n",
    "plt.savefig('./lab_3_1_1.pdf')\n",
    "plt.show()"
   ]
  },
  {
   "cell_type": "code",
   "execution_count": 22,
   "metadata": {},
   "outputs": [
    {
     "data": {
      "image/png": "[encoded data removed]",
      "text/plain": [
       "<Figure size 432x288 with 1 Axes>"
      ]
     },
     "metadata": {
      "needs_background": "light"
     },
     "output_type": "display_data"
    }
   ],
   "source": [
    "plt.plot(plot_range, train_accs, 'b')\n",
    "plt.plot(plot_range, test_accs, 'r')\n",
    "plt.legend(['train acc', 'val acc'])\n",
    "plt.savefig('./lab_3_1_2.pdf')\n",
    "plt.show()"
   ]
  },
  {
   "cell_type": "code",
   "execution_count": 24,
   "metadata": {},
   "outputs": [
    {
     "name": "stdout",
     "output_type": "stream",
     "text": [
      "943 1682\n"
     ]
    }
   ],
   "source": [
    "print(u_len, i_len)"
   ]
  }
 ],
 "metadata": {
  "kernelspec": {
   "display_name": "Python 3",
   "language": "python",
   "name": "python3"
  },
  "language_info": {
   "codemirror_mode": {
    "name": "ipython",
    "version": 3
   },
   "file_extension": ".py",
   "mimetype": "text/x-python",
   "name": "python",
   "nbconvert_exporter": "python",
   "pygments_lexer": "ipython3",
   "version": "3.6.3"
  }
 },
 "nbformat": 4,
 "nbformat_minor": 2
}
