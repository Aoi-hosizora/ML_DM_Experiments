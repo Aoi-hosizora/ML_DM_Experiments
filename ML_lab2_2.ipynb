{
 "cells": [
  {
   "cell_type": "code",
   "execution_count": 1,
   "metadata": {},
   "outputs": [],
   "source": [
    "import numpy as np\n",
    "from sklearn import datasets, model_selection\n",
    "import matplotlib.pyplot as plt"
   ]
  },
  {
   "cell_type": "code",
   "execution_count": 2,
   "metadata": {},
   "outputs": [],
   "source": [
    "xs_train, ys_train = datasets.load_svmlight_file('./a9a.csv', n_features=123)\n",
    "xs_val, ys_val = datasets.load_svmlight_file('./a9a_t.csv', n_features=123)\n",
    "\n",
    "xs_train = xs_train.A # numpy\n",
    "xs_val = xs_val.A\n",
    "\n",
    "xs_train = np.c_[xs_train, np.ones(len(xs_train))]\n",
    "xs_val = np.c_[xs_val, np.ones(len(xs_val))]"
   ]
  },
  {
   "cell_type": "code",
   "execution_count": 3,
   "metadata": {},
   "outputs": [],
   "source": [
    "alpha = 0.5 # (0, 1)\n",
    "\n",
    "def getLoss(xs, ys):\n",
    "    loss = 0\n",
    "    grad = 0\n",
    "    for x, y in zip(xs, ys):\n",
    "        arg = 1 - y * W.T.dot(x)[0]\n",
    "        loss += np.maximum(0, arg)\n",
    "        grad += 0 if arg < 0 else y * x\n",
    "        \n",
    "    loss += alpha * np.linalg.norm(W.reshape((-1, 1))) / 2\n",
    "    loss /= len(xs)\n",
    "\n",
    "    grad = 2 * alpha * W - grad.reshape(-1, 1)\n",
    "    grad /= len(xs)\n",
    "    \n",
    "    return loss, grad\n",
    "\n",
    "# 准确率\n",
    "def getAcc(xs, ys):\n",
    "    acc = 0\n",
    "    for x, y in zip(xs, ys):\n",
    "        y_calc = W.T.dot(x)\n",
    "        y_calc = 1 if y_calc >= 0 else -1 # 阈值\n",
    "        if (y == y_calc):\n",
    "            acc += 1 \n",
    "    acc /= len(xs)\n",
    "    return acc"
   ]
  },
  {
   "cell_type": "markdown",
   "metadata": {},
   "source": [
    "SVM Hinge 损失函数：\n",
    "$$\n",
    "\\hat{y_i} = W^Tx_i \\\\\n",
    "Loss = \\sum_{i = 0}^{\\#x}[\\max(0, 1 - y_i\\hat{y_i})] + \\lambda\\|W\\|^2_2 \\\\\n",
    "\\frac {\\partial Loss} {\\partial W} = 2 \\lambda W - \\sum_{i = 0}^{\\#x}(1 - y_i\\hat{y_i} > 0 \\;?\\; y_i * x_i : 0) \\\\\n",
    "\\lambda := \\frac{1}{2C}\\in(0, 1)\\;(C>0\\;为惩罚参数，越大惩罚越大)\n",
    "$$"
   ]
  },
  {
   "cell_type": "code",
   "execution_count": 4,
   "metadata": {},
   "outputs": [
    {
     "name": "stdout",
     "output_type": "stream",
     "text": [
      "epoch:  0 loss_train:  5.974567450091555  loss_val:  6.0965427760254425 acc_val:  0.23622627602727106\n",
      "epoch:  10 loss_train:  1.3261198726940642  loss_val:  1.5207692070808696 acc_val:  0.3977642650942817\n",
      "epoch:  20 loss_train:  0.574300802989978  loss_val:  0.7201880634172274 acc_val:  0.7110742583379399\n",
      "epoch:  30 loss_train:  0.5048315105552842  loss_val:  0.6378133286655293 acc_val:  0.7454701799643757\n",
      "epoch:  40 loss_train:  0.459972811353219  loss_val:  0.5876117029401258 acc_val:  0.7605183956759413\n",
      "epoch:  50 loss_train:  0.42968486387124144  loss_val:  0.5515533784623222 acc_val:  0.7718813340703888\n",
      "epoch:  60 loss_train:  0.40980109884736643  loss_val:  0.5248037302066604 acc_val:  0.7809716847859468\n",
      "epoch:  70 loss_train:  0.3950309323671732  loss_val:  0.503956186718182 acc_val:  0.7879737116884712\n",
      "epoch:  80 loss_train:  0.3856214875452712  loss_val:  0.4870631331584473 acc_val:  0.7949757385909957\n",
      "epoch:  90 loss_train:  0.37820755849070964  loss_val:  0.47297018499829147 acc_val:  0.7997665991032492\n",
      "epoch:  100 loss_train:  0.37294549835741286  loss_val:  0.4610674869660143 acc_val:  0.8039432467293164\n",
      "epoch:  110 loss_train:  0.3683539157496421  loss_val:  0.45094138301796904 acc_val:  0.8081198943553836\n",
      "epoch:  120 loss_train:  0.36542839097724134  loss_val:  0.4421896376378737 acc_val:  0.8119280142497389\n",
      "epoch:  130 loss_train:  0.36327294413956884  loss_val:  0.43445412977501824 acc_val:  0.8147533935261961\n",
      "epoch:  140 loss_train:  0.3609868881369179  loss_val:  0.42768778763052967 acc_val:  0.8170874024937044\n",
      "epoch:  150 loss_train:  0.3591640494481358  loss_val:  0.42165114676446386 acc_val:  0.8193599901725939\n",
      "epoch:  160 loss_train:  0.35824953709909885  loss_val:  0.4162565311277089 acc_val:  0.8218782630059579\n",
      "epoch:  170 loss_train:  0.3572572313940413  loss_val:  0.4113941889488847 acc_val:  0.8235980590872797\n",
      "epoch:  180 loss_train:  0.3563236014754454  loss_val:  0.40696388053091087 acc_val:  0.8249493274368896\n",
      "epoch:  190 loss_train:  0.35569178029213566  loss_val:  0.4029427113747918 acc_val:  0.8264234383637369\n"
     ]
    }
   ],
   "source": [
    "W = np.random.random([124, 1])\n",
    "lr = 1e-3\n",
    "\n",
    "losses_train, losses_val = [], []\n",
    "acc_val = []\n",
    "\n",
    "show_epoch = 10 # 显示\n",
    "batch_size = 100 # 批次大小\n",
    "\n",
    "epoches = 200\n",
    "batches = len(xs_train) // batch_size\n",
    "\n",
    "for epoch in range(epoches):\n",
    "    for batch in range(batches):\n",
    "        s = batch * batch_size\n",
    "        e = s + batch_size\n",
    "        \n",
    "        loss_train, grad = getLoss(xs_train[s:e], ys_train[s:e])\n",
    "        W = W - lr * grad # SGD\n",
    "        \n",
    "    loss_val, _ = getLoss(xs_val, ys_val)\n",
    "    losses_train.append(loss_train)    \n",
    "    losses_val.append(loss_val)\n",
    "    \n",
    "    acc = getAcc(xs_val, ys_val)\n",
    "    acc_val.append(acc)\n",
    "    \n",
    "    if epoch % show_epoch == 0:\n",
    "        print(\"epoch: \", epoch, \"loss_train: \", loss_train, \" loss_val: \", loss_val, \"acc_val: \", acc)"
   ]
  },
  {
   "cell_type": "code",
   "execution_count": 5,
   "metadata": {},
   "outputs": [
    {
     "data": {
      "image/png": "[encoded data removed]",
      "text/plain": [
       "<Figure size 432x288 with 1 Axes>"
      ]
     },
     "metadata": {
      "needs_background": "light"
     },
     "output_type": "display_data"
    }
   ],
   "source": [
    "plt.plot([i for i in range(len(losses_train))], losses_train, 'b')\n",
    "plt.plot([i for i in range(len(losses_val))], losses_val, 'r')\n",
    "plt.legend([\"training loss\",\"validation loss\"])\n",
    "plt.savefig('./lab_2_2_1.pdf')\n",
    "plt.show()"
   ]
  },
  {
   "cell_type": "code",
   "execution_count": 7,
   "metadata": {},
   "outputs": [
    {
     "data": {
      "image/png": "[encoded data removed]",
      "text/plain": [
       "<Figure size 432x288 with 1 Axes>"
      ]
     },
     "metadata": {
      "needs_background": "light"
     },
     "output_type": "display_data"
    }
   ],
   "source": [
    "plt.plot([i for i in range(len(acc_val))], acc_val)\n",
    "plt.legend([\"validation acc\"])\n",
    "plt.savefig('./lab_2_2_2.pdf')\n",
    "plt.show()"
   ]
  }
 ],
 "metadata": {
  "file_extension": ".py",
  "kernelspec": {
   "display_name": "Python 3",
   "language": "python",
   "name": "python3"
  },
  "language_info": {
   "codemirror_mode": {
    "name": "ipython",
    "version": 3
   },
   "file_extension": ".py",
   "mimetype": "text/x-python",
   "name": "python",
   "nbconvert_exporter": "python",
   "pygments_lexer": "ipython3",
   "version": "3.6.3"
  },
  "mimetype": "text/x-python",
  "name": "python",
  "npconvert_exporter": "python",
  "pygments_lexer": "ipython3",
  "version": 3
 },
 "nbformat": 4,
 "nbformat_minor": 2
}
