{
 "cells": [
  {
   "cell_type": "code",
   "execution_count": 9,
   "metadata": {},
   "outputs": [],
   "source": [
    "import pandas as pd\n",
    "import numpy as np\n",
    "from sklearn.model_selection import train_test_split\n",
    "\n",
    "import pydot\n",
    "\n",
    "from sklearn.tree import export_graphviz\n",
    "from sklearn.tree import DecisionTreeClassifier\n",
    "from sklearn.metrics import f1_score"
   ]
  },
  {
   "cell_type": "code",
   "execution_count": 15,
   "metadata": {
    "scrolled": true
   },
   "outputs": [
    {
     "name": "stdout",
     "output_type": "stream",
     "text": [
      "x: (256326, 30), y: (256326,)\n",
      "train pos: 442, neg: 255884\n",
      "test pos: 50, neg: 28431\n"
     ]
    }
   ],
   "source": [
    "def openCsv(filename):\n",
    "    df = pd.read_csv(filename)\n",
    "    data = np.array(df)\n",
    "    return data[:, :-1], data[:, -1]\n",
    "\n",
    "all_xs, all_ys = openCsv('./creditcard.csv')\n",
    "train_xs, test_xs, train_ys, test_ys = train_test_split(all_xs, all_ys, test_size=0.1)\n",
    "train_ys = train_ys.astype(np.int)\n",
    "test_ys = test_ys.astype(np.int)\n",
    "col_name = [\"Time\",\"V1\",\"V2\",\"V3\",\"V4\",\"V5\",\"V6\",\"V7\",\"V8\",\"V9\",\"V10\",\"V11\",\"V12\",\"V13\",\"V14\",\"V15\",\"V16\",\"V17\",\"V18\",\"V19\",\"V20\",\"V21\",\"V22\",\"V23\",\"V24\",\"V25\",\"V26\",\"V27\",\"V28\",\"Amount\"]\n",
    "\n",
    "print(f'x: {train_xs.shape}, y: {train_ys.shape}')\n",
    "print(f'train pos: {np.sum(train_ys == 1)}, neg: {np.sum(train_ys == 0)}')\n",
    "print(f'test pos: {np.sum(test_ys == 1)}, neg: {np.sum(test_ys == 0)}')"
   ]
  },
  {
   "cell_type": "code",
   "execution_count": 16,
   "metadata": {},
   "outputs": [
    {
     "name": "stdout",
     "output_type": "stream",
     "text": [
      "2019-11-15 01:38:59\n",
      "2019-11-15 01:39:23\n",
      "Train acc: 0.9997464166725186, f1: 0.9210206561360875\n",
      "Test acc: 0.9994382219725431, f1: 0.8222222222222222\n"
     ]
    }
   ],
   "source": [
    "tree = DecisionTreeClassifier(max_depth=10,random_state=0)\n",
    "\n",
    "import datetime\n",
    "print(datetime.datetime.now().strftime('%Y-%m-%d %H:%M:%S'))\n",
    "\n",
    "tree.fit(train_xs, train_ys)\n",
    "\n",
    "print(datetime.datetime.now().strftime('%Y-%m-%d %H:%M:%S'))\n",
    "\n",
    "print('Train acc: {}, f1: {}'.format(tree.score(train_xs, train_ys), f1_score(train_ys, tree.predict(train_xs))))\n",
    "print('Test acc: {}, f1: {}'.format(tree.score(test_xs, test_ys), f1_score(test_ys, tree.predict(test_xs))))"
   ]
  },
  {
   "cell_type": "code",
   "execution_count": 18,
   "metadata": {},
   "outputs": [],
   "source": [
    "export_graphviz(tree, out_file=\"sklearnTree.dot\", class_names=['-', '+'], feature_names=col_name, impurity=False, filled=True)\n",
    "graph = pydot.graph_from_dot_file('sklearnTree.dot')[0]\n",
    "graph.write_pdf('sklearnTree.pdf')"
   ]
  }
 ],
 "metadata": {
  "kernelspec": {
   "display_name": "Python 3",
   "language": "python",
   "name": "python3"
  },
  "language_info": {
   "codemirror_mode": {
    "name": "ipython",
    "version": 3
   },
   "file_extension": ".py",
   "mimetype": "text/x-python",
   "name": "python",
   "nbconvert_exporter": "python",
   "pygments_lexer": "ipython3",
   "version": "3.6.3"
  }
 },
 "nbformat": 4,
 "nbformat_minor": 2
}
