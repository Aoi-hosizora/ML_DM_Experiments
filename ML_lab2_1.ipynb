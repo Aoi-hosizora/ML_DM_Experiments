{
 "cells": [
  {
   "cell_type": "code",
   "execution_count": 1,
   "metadata": {},
   "outputs": [],
   "source": [
    "import numpy as np\n",
    "from sklearn import datasets, model_selection\n",
    "import matplotlib.pyplot as plt"
   ]
  },
  {
   "cell_type": "code",
   "execution_count": 3,
   "metadata": {},
   "outputs": [],
   "source": [
    "xs_train, ys_train = datasets.load_svmlight_file('./a9a.csv', n_features=123)\n",
    "xs_val, ys_val = datasets.load_svmlight_file('./a9a_t.csv', n_features=123)\n",
    "\n",
    "xs_train = xs_train.A # numpy\n",
    "xs_val = xs_val.A\n",
    "\n",
    "xs_train = np.c_[xs_train, np.ones(len(xs_train))] # + 1\n",
    "xs_val = np.c_[xs_val, np.ones(len(xs_val))]\n",
    "\n",
    "ys_train = [0 if y == -1 else 1 for y in ys_train] # {-1, 1} -> {0, 1}\n",
    "ys_val = [0 if y == -1 else 1 for y in ys_val]\n",
    "\n",
    "def sigmoid(x):\n",
    "    return 1 / (1 + np.exp(-x))"
   ]
  },
  {
   "cell_type": "code",
   "execution_count": 11,
   "metadata": {},
   "outputs": [],
   "source": [
    "# 交叉熵\n",
    "def getLoss(xs, ys):\n",
    "    loss = 0\n",
    "    grad = 0\n",
    "    for x, y in zip(xs, ys):\n",
    "        y_calc = sigmoid(W.T.dot(x))\n",
    "        loss += y * np.log(y_calc) + (1 - y) * np.log(1 - y_calc)\n",
    "        grad += (y - y_calc) * x\n",
    "    loss = - loss / len(xs)\n",
    "    grad = - grad.reshape(-1, 1) / len(xs)\n",
    "    return loss, grad\n",
    "\n",
    "# 接受率\n",
    "def getAcc(xs, ys):\n",
    "    acc = 0\n",
    "    for x, y in zip(xs, ys):\n",
    "        y_calc = W.T.dot(x)\n",
    "        y_calc = 1 if y_calc >= 0.5 else 0\n",
    "        if (y == y_calc):\n",
    "            acc += 1 \n",
    "    acc /= len(xs)\n",
    "    return acc"
   ]
  },
  {
   "cell_type": "markdown",
   "metadata": {},
   "source": [
    "$$\n",
    "\\hat{y_i} = \\sigma(W^Tx_i) \\\\\n",
    "Loss = - \\frac 1 {\\#x} \\sum_{i = 0}^{\\#x}[y_i\\log(\\hat{y_i}) + (1 - y_i)\\log(1 - \\hat{y_i})] \\\\\n",
    "\\frac {\\partial Loss} {\\partial W} = - \\frac 1 {\\#x} \\sum_{i = 0}^{\\#x}(y - \\hat{y_i}) * x_i\n",
    "$$"
   ]
  },
  {
   "cell_type": "code",
   "execution_count": 17,
   "metadata": {},
   "outputs": [
    {
     "name": "stdout",
     "output_type": "stream",
     "text": [
      "epoch  0 loss_train:  [5.62667086] loss_val:  [5.60660679] acc_val:  0.23622627602727106\n",
      "epoch  1 loss_train:  [5.14184287] loss_val:  [5.12436237] acc_val:  0.23622627602727106\n",
      "epoch  2 loss_train:  [4.65834476] loss_val:  [4.64345025] acc_val:  0.23622627602727106\n",
      "epoch  3 loss_train:  [4.17733565] loss_val:  [4.16502171] acc_val:  0.23622627602727106\n",
      "epoch  4 loss_train:  [3.70095338] loss_val:  [3.69119123] acc_val:  0.23622627602727106\n",
      "epoch  5 loss_train:  [3.23304127] loss_val:  [3.22574272] acc_val:  0.23622627602727106\n",
      "epoch  6 loss_train:  [2.78017522] loss_val:  [2.77511978] acc_val:  0.23622627602727106\n",
      "epoch  7 loss_train:  [2.35264223] loss_val:  [2.34935747] acc_val:  0.2362876973158897\n",
      "epoch  8 loss_train:  [1.96424855] loss_val:  [1.96187833] acc_val:  0.24181561329156687\n",
      "epoch  9 loss_train:  [1.62938399] loss_val:  [1.62665825] acc_val:  0.2712364105398931\n",
      "epoch  10 loss_train:  [1.35755365] loss_val:  [1.35298415] acc_val:  0.3349302868374178\n",
      "epoch  11 loss_train:  [1.14917357] loss_val:  [1.14142756] acc_val:  0.4234383637368712\n",
      "epoch  12 loss_train:  [0.99632195] loss_val:  [0.98452759] acc_val:  0.5094281678029605\n",
      "epoch  13 loss_train:  [0.88713831] loss_val:  [0.87095249] acc_val:  0.5805540200233401\n",
      "epoch  14 loss_train:  [0.80995005] loss_val:  [0.78944448] acc_val:  0.628892574166206\n",
      "epoch  15 loss_train:  [0.75527321] loss_val:  [0.73077186] acc_val:  0.6648854492967262\n",
      "epoch  16 loss_train:  [0.71613362] loss_val:  [0.68807973] acc_val:  0.6862600577360113\n",
      "epoch  17 loss_train:  [0.68765647] loss_val:  [0.65652661] acc_val:  0.7021067501996192\n",
      "epoch  18 loss_train:  [0.66651203] loss_val:  [0.63276836] acc_val:  0.7135311098826853\n",
      "epoch  19 loss_train:  [0.65044263] loss_val:  [0.61451005] acc_val:  0.7231742521958111\n",
      "epoch  20 loss_train:  [0.63791564] loss_val:  [0.60017333] acc_val:  0.7295620662121491\n",
      "epoch  21 loss_train:  [0.62788468] loss_val:  [0.58866521] acc_val:  0.7355199312081567\n",
      "epoch  22 loss_train:  [0.61962976] loss_val:  [0.57922192] acc_val:  0.7408021620293593\n",
      "epoch  23 loss_train:  [0.6126513] loss_val:  [0.57130436] acc_val:  0.7457158651188502\n",
      "epoch  24 loss_train:  [0.60659973] loss_val:  [0.56452819] acc_val:  0.7477427676432652\n",
      "epoch  25 loss_train:  [0.60122859] loss_val:  [0.55861665] acc_val:  0.750138197899392\n",
      "epoch  26 loss_train:  [0.59636288] loss_val:  [0.55336858] acc_val:  0.751980836557951\n",
      "epoch  27 loss_train:  [0.59187761] loss_val:  [0.54863646] acc_val:  0.7537620539278914\n",
      "epoch  28 loss_train:  [0.58768307] loss_val:  [0.54431117] acc_val:  0.7562189054726368\n",
      "epoch  29 loss_train:  [0.58371459] loss_val:  [0.54031137] acc_val:  0.7577544376881027\n",
      "epoch  30 loss_train:  [0.5799254] loss_val:  [0.53657591] acc_val:  0.7593513911921872\n",
      "epoch  31 loss_train:  [0.57628161] loss_val:  [0.53305851] acc_val:  0.7608255021190344\n",
      "epoch  32 loss_train:  [0.57275858] loss_val:  [0.52972384] acc_val:  0.7618082427369326\n",
      "epoch  33 loss_train:  [0.56933841] loss_val:  [0.52654473] acc_val:  0.7625452982003562\n",
      "epoch  34 loss_train:  [0.56600803] loss_val:  [0.52350012] acc_val:  0.7641422517044407\n",
      "epoch  35 loss_train:  [0.56275792] loss_val:  [0.52057352] acc_val:  0.7646336220133898\n",
      "epoch  36 loss_train:  [0.5595811] loss_val:  [0.51775192] acc_val:  0.7659234690743811\n",
      "epoch  37 loss_train:  [0.55647243] loss_val:  [0.51502496] acc_val:  0.7669676309808979\n",
      "epoch  38 loss_train:  [0.5534281] loss_val:  [0.51238425] acc_val:  0.7676432651557029\n",
      "epoch  39 loss_train:  [0.55044525] loss_val:  [0.50982298] acc_val:  0.7684417419077453\n",
      "epoch  40 loss_train:  [0.54752169] loss_val:  [0.50733551] acc_val:  0.7697315889687366\n",
      "epoch  41 loss_train:  [0.5446557] loss_val:  [0.50491712] acc_val:  0.7705914870093975\n",
      "epoch  42 loss_train:  [0.54184587] loss_val:  [0.5025638] acc_val:  0.7711442786069652\n",
      "epoch  43 loss_train:  [0.53909103] loss_val:  [0.50027211] acc_val:  0.7718199127817702\n",
      "epoch  44 loss_train:  [0.53639014] loss_val:  [0.49803906] acc_val:  0.7724341256679566\n",
      "epoch  45 loss_train:  [0.53374226] loss_val:  [0.49586199] acc_val:  0.7731711811313802\n",
      "epoch  46 loss_train:  [0.53114649] loss_val:  [0.49373853] acc_val:  0.7737239727289479\n",
      "epoch  47 loss_train:  [0.52860197] loss_val:  [0.49166654] acc_val:  0.7743996069037529\n",
      "epoch  48 loss_train:  [0.52610782] loss_val:  [0.48964406] acc_val:  0.7751980836557951\n",
      "epoch  49 loss_train:  [0.52366319] loss_val:  [0.48766929] acc_val:  0.7755051900988883\n",
      "epoch  50 loss_train:  [0.5212672] loss_val:  [0.48574055] acc_val:  0.776057981696456\n",
      "epoch  51 loss_train:  [0.51891898] loss_val:  [0.48385626] acc_val:  0.7766721945826424\n",
      "epoch  52 loss_train:  [0.51661764] loss_val:  [0.48201495] acc_val:  0.7772864074688287\n",
      "epoch  53 loss_train:  [0.51436225] loss_val:  [0.48021523] acc_val:  0.7777777777777778\n",
      "epoch  54 loss_train:  [0.51215192] loss_val:  [0.47845576] acc_val:  0.7782691480867269\n",
      "epoch  55 loss_train:  [0.50998572] loss_val:  [0.47673529] acc_val:  0.7784534119525828\n",
      "epoch  56 loss_train:  [0.50786272] loss_val:  [0.4750526] acc_val:  0.7790062035501505\n",
      "epoch  57 loss_train:  [0.50578199] loss_val:  [0.47340654] acc_val:  0.7794975738590996\n",
      "epoch  58 loss_train:  [0.5037426] loss_val:  [0.471796] acc_val:  0.7801117867452859\n",
      "epoch  59 loss_train:  [0.50174363] loss_val:  [0.47021991] acc_val:  0.7806645783428536\n",
      "epoch  60 loss_train:  [0.49978416] loss_val:  [0.46867725] acc_val:  0.7807874209200909\n",
      "epoch  61 loss_train:  [0.49786326] loss_val:  [0.46716704] acc_val:  0.7813402125176586\n",
      "epoch  62 loss_train:  [0.49598004] loss_val:  [0.46568832] acc_val:  0.7816473189607518\n",
      "epoch  63 loss_train:  [0.4941336] loss_val:  [0.46424017] acc_val:  0.7821386892697009\n",
      "epoch  64 loss_train:  [0.49232305] loss_val:  [0.46282172] acc_val:  0.7825686382900313\n",
      "epoch  65 loss_train:  [0.49054754] loss_val:  [0.46143211] acc_val:  0.7829371660217431\n",
      "epoch  66 loss_train:  [0.4888062] loss_val:  [0.46007051] acc_val:  0.7834899576193108\n",
      "epoch  67 loss_train:  [0.48709821] loss_val:  [0.45873614] acc_val:  0.7839813279282599\n",
      "epoch  68 loss_train:  [0.48542273] loss_val:  [0.45742822] acc_val:  0.7842270130827345\n",
      "epoch  69 loss_train:  [0.48377896] loss_val:  [0.45614602] acc_val:  0.7841041705054972\n",
      "epoch  70 loss_train:  [0.48216612] loss_val:  [0.45488881] acc_val:  0.784472698237209\n",
      "epoch  71 loss_train:  [0.48058344] loss_val:  [0.45365591] acc_val:  0.7845955408144463\n",
      "epoch  72 loss_train:  [0.47903016] loss_val:  [0.45244664] acc_val:  0.7847183833916835\n",
      "epoch  73 loss_train:  [0.47750555] loss_val:  [0.45126036] acc_val:  0.7850869111233953\n",
      "epoch  74 loss_train:  [0.4760089] loss_val:  [0.45009644] acc_val:  0.7853325962778699\n",
      "epoch  75 loss_train:  [0.4745395] loss_val:  [0.44895428] acc_val:  0.7856397027209631\n",
      "epoch  76 loss_train:  [0.47309669] loss_val:  [0.44783328] acc_val:  0.7860696517412935\n",
      "epoch  77 loss_train:  [0.47167979] loss_val:  [0.4467329] acc_val:  0.7864381794730053\n",
      "epoch  78 loss_train:  [0.47028816] loss_val:  [0.44565256] acc_val:  0.7870523923591917\n",
      "epoch  79 loss_train:  [0.46892118] loss_val:  [0.44459176] acc_val:  0.7874823413795221\n",
      "epoch  80 loss_train:  [0.46757824] loss_val:  [0.44354997] acc_val:  0.7877280265339967\n",
      "epoch  81 loss_train:  [0.46625873] loss_val:  [0.44252669] acc_val:  0.7882808181315644\n",
      "epoch  82 loss_train:  [0.4649621] loss_val:  [0.44152145] acc_val:  0.7882193968429457\n",
      "epoch  83 loss_train:  [0.46368776] loss_val:  [0.44053379] acc_val:  0.7882808181315644\n",
      "epoch  84 loss_train:  [0.46243519] loss_val:  [0.43956324] acc_val:  0.7886493458632762\n",
      "epoch  85 loss_train:  [0.46120384] loss_val:  [0.43860938] acc_val:  0.7890792948836066\n",
      "epoch  86 loss_train:  [0.45999321] loss_val:  [0.43767177] acc_val:  0.7895706651925557\n",
      "epoch  87 loss_train:  [0.45880279] loss_val:  [0.43675003] acc_val:  0.7898163503470302\n",
      "epoch  88 loss_train:  [0.4576321] loss_val:  [0.43584373] acc_val:  0.7901234567901234\n",
      "epoch  89 loss_train:  [0.45648066] loss_val:  [0.43495251] acc_val:  0.7902462993673607\n",
      "epoch  90 loss_train:  [0.45534802] loss_val:  [0.43407599] acc_val:  0.7905534058104539\n",
      "epoch  91 loss_train:  [0.45423373] loss_val:  [0.4332138] acc_val:  0.7907376696763098\n",
      "epoch  92 loss_train:  [0.45313735] loss_val:  [0.43236561] acc_val:  0.7907376696763098\n"
     ]
    },
    {
     "name": "stdout",
     "output_type": "stream",
     "text": [
      "epoch  93 loss_train:  [0.45205847] loss_val:  [0.43153106] acc_val:  0.7909833548307843\n",
      "epoch  94 loss_train:  [0.45099668] loss_val:  [0.43070984] acc_val:  0.7913518825624961\n",
      "epoch  95 loss_train:  [0.44995158] loss_val:  [0.42990161] acc_val:  0.7916589890055893\n",
      "epoch  96 loss_train:  [0.44892278] loss_val:  [0.42910608] acc_val:  0.791536146428352\n",
      "epoch  97 loss_train:  [0.44790991] loss_val:  [0.42832294] acc_val:  0.7918432528714452\n",
      "epoch  98 loss_train:  [0.44691261] loss_val:  [0.4275519] acc_val:  0.7919660954486825\n",
      "epoch  99 loss_train:  [0.44593051] loss_val:  [0.42679267] acc_val:  0.7920275167373011\n"
     ]
    }
   ],
   "source": [
    "W = np.random.random([123 + 1, 1])\n",
    "\n",
    "losses_train, losses_val = [], []\n",
    "acc_val = []\n",
    "\n",
    "batch_size = 100 # 每一批次大小\n",
    "\n",
    "epoches = 100\n",
    "batches = len(xs_train) // batch_size\n",
    "\n",
    "for epoch in range(epoches):\n",
    "    for batch in range(batches):\n",
    "        s = batch * batch_size\n",
    "        e = s + batch_size\n",
    "        \n",
    "        loss_train, grad = getLoss(xs_train[s:e], ys_train[s:e])\n",
    "        W = W - lr * grad # SGD\n",
    "        \n",
    "    loss_val, _ = getLoss(xs_val, ys_val)\n",
    "    losses_train.append(loss_train)\n",
    "    losses_val.append(loss_val)\n",
    "    acc = getAcc(xs_val, ys_val)\n",
    "    acc_val.append(acc)\n",
    "    \n",
    "    print(\"epoch \", epoch, \"loss_train: \", loss_train, \"loss_val: \", loss_val, \"acc_val: \", acc)"
   ]
  },
  {
   "cell_type": "code",
   "execution_count": 26,
   "metadata": {},
   "outputs": [
    {
     "data": {
      "image/png": "[encoded data removed]",
      "text/plain": [
       "<Figure size 432x288 with 1 Axes>"
      ]
     },
     "metadata": {
      "needs_background": "light"
     },
     "output_type": "display_data"
    }
   ],
   "source": [
    "plt.plot([i for i in range(len(losses_train))], losses_train, 'b')\n",
    "plt.plot([i for i in range(len(losses_val))], losses_val, 'r')\n",
    "plt.legend([\"training loss\",\"validation loss\"])\n",
    "plt.savefig('./lab_2_1_1.pdf')\n",
    "plt.show()"
   ]
  },
  {
   "cell_type": "code",
   "execution_count": 27,
   "metadata": {},
   "outputs": [
    {
     "data": {
      "image/png": "[encoded data removed]",
      "text/plain": [
       "<Figure size 432x288 with 1 Axes>"
      ]
     },
     "metadata": {
      "needs_background": "light"
     },
     "output_type": "display_data"
    }
   ],
   "source": [
    "plt.plot([i for i in range(len(acc_val))], acc_val, 'b')\n",
    "plt.legend([\"validation acc\"])\n",
    "plt.savefig('./lab_2_1_2.pdf')\n",
    "plt.show()"
   ]
  }
 ],
 "metadata": {
  "file_extension": ".py",
  "kernelspec": {
   "display_name": "Python 3",
   "language": "python",
   "name": "python3"
  },
  "language_info": {
   "codemirror_mode": {
    "name": "ipython",
    "version": 3
   },
   "file_extension": ".py",
   "mimetype": "text/x-python",
   "name": "python",
   "nbconvert_exporter": "python",
   "pygments_lexer": "ipython3",
   "version": "3.6.3"
  },
  "mimetype": "text/x-python",
  "name": "python",
  "npconvert_exporter": "python",
  "pygments_lexer": "ipython3",
  "version": 3
 },
 "nbformat": 4,
 "nbformat_minor": 2
}
