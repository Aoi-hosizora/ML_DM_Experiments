{
 "cells": [
  {
   "cell_type": "code",
   "execution_count": 1,
   "metadata": {},
   "outputs": [],
   "source": [
    "import numpy as np\n",
    "from sklearn import datasets, model_selection"
   ]
  },
  {
   "cell_type": "code",
   "execution_count": 2,
   "metadata": {},
   "outputs": [
    {
     "name": "stdout",
     "output_type": "stream",
     "text": [
      "[659.97813949]\n"
     ]
    }
   ],
   "source": [
    "x, y = datasets.load_svmlight_file('./housing_scale.csv', n_features=13)\n",
    "xs_train, xs_val, ys_train, ys_val = model_selection.train_test_split(x, y, test_size=0.25)\n",
    "\n",
    "xs_train = xs_train.A # numpy\n",
    "xs_val = xs_val.A\n",
    "\n",
    "xs_train = np.c_[xs_train, np.ones(len(xs_train))] # +1\n",
    "xs_val = np.c_[xs_val, np.ones(len(xs_val))]\n",
    "\n",
    "# Init weight\n",
    "W = np.random.random([14, 1])\n",
    "\n",
    "def getLoss(xs, ys):\n",
    "    loss = 0\n",
    "    for x, y in zip(xs, ys):\n",
    "        y_calc = W.T.dot(x)\n",
    "        loss += (y_calc - y) ** 2\n",
    "    return loss / len(xs) # 均方\n",
    "    \n",
    "print(getLoss(xs_train, ys_train))"
   ]
  },
  {
   "cell_type": "code",
   "execution_count": 5,
   "metadata": {},
   "outputs": [
    {
     "name": "stdout",
     "output_type": "stream",
     "text": [
      "W: [[-5.6428286 ]\n",
      " [ 2.29886304]\n",
      " [ 0.91284887]\n",
      " [ 1.04666867]\n",
      " [-3.95415984]\n",
      " [11.10062798]\n",
      " [ 0.55376614]\n",
      " [-6.66742902]\n",
      " [ 3.21982697]\n",
      " [-3.40196913]\n",
      " [-4.54682652]\n",
      " [ 1.8030168 ]\n",
      " [-9.85577059]\n",
      " [10.83088792]]\n",
      "loss_train:  [18.09325435]\n",
      "loss_val:  [34.90285538]\n"
     ]
    }
   ],
   "source": [
    "# 闭式解\n",
    "W = np.linalg.inv(xs_train.T.dot(xs_train)).dot(xs_train.T).dot(ys_train.reshape(-1, 1))\n",
    "\n",
    "print(\"W: {}\".format(W))\n",
    "print(\"loss_train: \", getLoss(xs_train, ys_train))\n",
    "print(\"loss_val: \", getLoss(xs_val, ys_val))"
   ]
  },
  {
   "cell_type": "code",
   "execution_count": null,
   "metadata": {},
   "outputs": [],
   "source": []
  }
 ],
 "metadata": {
  "kernelspec": {
   "display_name": "'Python Interactive'",
   "language": "python",
   "name": "2e55add6-6ef0-46af-a154-8c252cb7e53c"
  },
  "language_info": {
   "codemirror_mode": {
    "name": "ipython",
    "version": 3
   },
   "file_extension": ".py",
   "mimetype": "text/x-python",
   "name": "python",
   "nbconvert_exporter": "python",
   "pygments_lexer": "ipython3",
   "version": "3.6.3"
  }
 },
 "nbformat": 4,
 "nbformat_minor": 2
}
